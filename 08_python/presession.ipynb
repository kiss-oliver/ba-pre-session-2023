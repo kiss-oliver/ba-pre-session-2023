{
 "cells": [
  {
   "cell_type": "code",
   "execution_count": 1,
   "id": "a9a6dde4-065b-4e94-8a88-493393926eee",
   "metadata": {},
   "outputs": [],
   "source": [
    "# This is a comment"
   ]
  },
  {
   "cell_type": "markdown",
   "id": "25a967d6-15f1-4718-a967-53b353229da2",
   "metadata": {},
   "source": [
    "# Variable types"
   ]
  },
  {
   "cell_type": "code",
   "execution_count": 2,
   "id": "1e2285f1-78aa-486a-9156-35c045edae05",
   "metadata": {},
   "outputs": [],
   "source": [
    "# assign a value to a variable\n",
    "a = 5"
   ]
  },
  {
   "cell_type": "code",
   "execution_count": 3,
   "id": "c070d094-4610-42de-94e3-00eadb1ea3ec",
   "metadata": {},
   "outputs": [
    {
     "name": "stdout",
     "output_type": "stream",
     "text": [
      "5\n"
     ]
    }
   ],
   "source": [
    "print(a)"
   ]
  },
  {
   "cell_type": "code",
   "execution_count": 4,
   "id": "26d08f2f-0d75-46a8-b9a4-222779372537",
   "metadata": {},
   "outputs": [
    {
     "name": "stdout",
     "output_type": "stream",
     "text": [
      "<class 'int'>\n"
     ]
    }
   ],
   "source": [
    "print(type(a))"
   ]
  },
  {
   "cell_type": "code",
   "execution_count": 5,
   "id": "178b9623-f75d-4484-b21c-f5bc9ad7391a",
   "metadata": {},
   "outputs": [
    {
     "data": {
      "text/plain": [
       "5"
      ]
     },
     "execution_count": 5,
     "metadata": {},
     "output_type": "execute_result"
    }
   ],
   "source": [
    "a"
   ]
  },
  {
   "cell_type": "code",
   "execution_count": 6,
   "id": "3b891ee0-74a0-4b62-8898-9ffd738a48f6",
   "metadata": {},
   "outputs": [
    {
     "data": {
      "text/plain": [
       "int"
      ]
     },
     "execution_count": 6,
     "metadata": {},
     "output_type": "execute_result"
    }
   ],
   "source": [
    "type(a)"
   ]
  },
  {
   "cell_type": "code",
   "execution_count": 7,
   "id": "d035703e-63f3-4965-b1df-86987a2625c8",
   "metadata": {},
   "outputs": [],
   "source": [
    "b = 3.4"
   ]
  },
  {
   "cell_type": "code",
   "execution_count": 8,
   "id": "75eae584-5b02-4add-8b72-852e7d153f65",
   "metadata": {},
   "outputs": [
    {
     "data": {
      "text/plain": [
       "float"
      ]
     },
     "execution_count": 8,
     "metadata": {},
     "output_type": "execute_result"
    }
   ],
   "source": [
    "type(b)"
   ]
  },
  {
   "cell_type": "code",
   "execution_count": 9,
   "id": "8d614e9f-dfc3-4743-a0cd-52e49f02b43a",
   "metadata": {},
   "outputs": [],
   "source": [
    "c = True"
   ]
  },
  {
   "cell_type": "code",
   "execution_count": 10,
   "id": "34c7cb87-46c6-4a61-ac16-dcd1478f52dd",
   "metadata": {},
   "outputs": [
    {
     "data": {
      "text/plain": [
       "bool"
      ]
     },
     "execution_count": 10,
     "metadata": {},
     "output_type": "execute_result"
    }
   ],
   "source": [
    "type(c)"
   ]
  },
  {
   "cell_type": "code",
   "execution_count": 11,
   "id": "ac193ad9-1243-4059-b466-a93dd40cb9f0",
   "metadata": {},
   "outputs": [],
   "source": [
    "d = False"
   ]
  },
  {
   "cell_type": "code",
   "execution_count": 12,
   "id": "6fe78f5c-0db9-4417-90e8-bcef219308a0",
   "metadata": {},
   "outputs": [
    {
     "data": {
      "text/plain": [
       "bool"
      ]
     },
     "execution_count": 12,
     "metadata": {},
     "output_type": "execute_result"
    }
   ],
   "source": [
    "type(d)"
   ]
  },
  {
   "cell_type": "code",
   "execution_count": 13,
   "id": "6d7397e7-ef01-420e-84ad-f6f2f7cfd5af",
   "metadata": {},
   "outputs": [],
   "source": [
    "e = \"penguin\""
   ]
  },
  {
   "cell_type": "code",
   "execution_count": 14,
   "id": "cfd94fd0-7133-4408-9fc0-62e0585e2934",
   "metadata": {},
   "outputs": [
    {
     "data": {
      "text/plain": [
       "str"
      ]
     },
     "execution_count": 14,
     "metadata": {},
     "output_type": "execute_result"
    }
   ],
   "source": [
    "type(e)"
   ]
  },
  {
   "cell_type": "code",
   "execution_count": 15,
   "id": "a79c9490-0746-4a64-8854-0feb03816157",
   "metadata": {},
   "outputs": [],
   "source": [
    "f = 'sea lion'"
   ]
  },
  {
   "cell_type": "code",
   "execution_count": 16,
   "id": "17cf0039-8b26-4f8e-8e10-af67c99fa635",
   "metadata": {},
   "outputs": [
    {
     "data": {
      "text/plain": [
       "str"
      ]
     },
     "execution_count": 16,
     "metadata": {},
     "output_type": "execute_result"
    }
   ],
   "source": [
    "type(f)"
   ]
  },
  {
   "cell_type": "code",
   "execution_count": 17,
   "id": "d66aa7ba-c85f-4b16-8e64-5cc2d0e7cd81",
   "metadata": {},
   "outputs": [
    {
     "ename": "SyntaxError",
     "evalue": "unterminated string literal (detected at line 1) (942364567.py, line 1)",
     "output_type": "error",
     "traceback": [
      "\u001b[0;36m  Cell \u001b[0;32mIn[17], line 1\u001b[0;36m\u001b[0m\n\u001b[0;31m    g = 'penguin\"\u001b[0m\n\u001b[0m        ^\u001b[0m\n\u001b[0;31mSyntaxError\u001b[0m\u001b[0;31m:\u001b[0m unterminated string literal (detected at line 1)\n"
     ]
    }
   ],
   "source": [
    "g = 'penguin\""
   ]
  },
  {
   "cell_type": "code",
   "execution_count": 18,
   "id": "2d4e5940-2b09-4e9e-b49c-8ac1be635be8",
   "metadata": {},
   "outputs": [],
   "source": [
    "h = 'He said \"This is a great horse!\"'"
   ]
  },
  {
   "cell_type": "code",
   "execution_count": 19,
   "id": "e52c9e97-1388-4a74-942d-9b8f4124a15f",
   "metadata": {},
   "outputs": [
    {
     "name": "stdout",
     "output_type": "stream",
     "text": [
      "He said \"This is a great horse!\"\n"
     ]
    }
   ],
   "source": [
    "print(h)"
   ]
  },
  {
   "cell_type": "code",
   "execution_count": 20,
   "id": "d85eacf3-f195-4c47-92c1-5a2b337b7fa5",
   "metadata": {},
   "outputs": [],
   "source": [
    "i = '''He said \"It's a great horse!\"'''"
   ]
  },
  {
   "cell_type": "code",
   "execution_count": 21,
   "id": "57ea0997-8d85-44e9-b961-a99e34814f18",
   "metadata": {},
   "outputs": [
    {
     "name": "stdout",
     "output_type": "stream",
     "text": [
      "He said \"It's a great horse!\"\n"
     ]
    }
   ],
   "source": [
    "print(i)"
   ]
  },
  {
   "cell_type": "code",
   "execution_count": 22,
   "id": "60b1ad04-254c-451f-9392-e5dd4d3c6ed7",
   "metadata": {},
   "outputs": [],
   "source": [
    "i = 5"
   ]
  },
  {
   "cell_type": "code",
   "execution_count": 23,
   "id": "50d3ae8b-01d1-4e36-874c-37e2ffa01d37",
   "metadata": {},
   "outputs": [
    {
     "name": "stdout",
     "output_type": "stream",
     "text": [
      "5\n"
     ]
    }
   ],
   "source": [
    "print(i)"
   ]
  },
  {
   "cell_type": "code",
   "execution_count": 24,
   "id": "bff470ce-70c2-4405-a2e2-8a0740d86cd5",
   "metadata": {},
   "outputs": [],
   "source": [
    "a, b = \"penguin\", 3.4"
   ]
  },
  {
   "cell_type": "code",
   "execution_count": 25,
   "id": "bb257fb1-c47b-49c0-80f9-08b2072cac55",
   "metadata": {},
   "outputs": [
    {
     "data": {
      "text/plain": [
       "'penguin'"
      ]
     },
     "execution_count": 25,
     "metadata": {},
     "output_type": "execute_result"
    }
   ],
   "source": [
    "a"
   ]
  },
  {
   "cell_type": "code",
   "execution_count": 26,
   "id": "124bd5e2-8245-4672-8dfa-06fdf86f4c5d",
   "metadata": {},
   "outputs": [
    {
     "data": {
      "text/plain": [
       "3.4"
      ]
     },
     "execution_count": 26,
     "metadata": {},
     "output_type": "execute_result"
    }
   ],
   "source": [
    "b"
   ]
  },
  {
   "cell_type": "code",
   "execution_count": 27,
   "id": "68bc9a1e-e331-43ca-ba52-9f990d3e95d1",
   "metadata": {},
   "outputs": [],
   "source": [
    "a, b, c, d, e = 1, 2, 3, 4, 5"
   ]
  },
  {
   "cell_type": "code",
   "execution_count": 28,
   "id": "edea4191-6226-44a4-a17c-17096a96f133",
   "metadata": {},
   "outputs": [],
   "source": [
    "x = 3+4"
   ]
  },
  {
   "cell_type": "code",
   "execution_count": 29,
   "id": "2e921649-c5d7-40d2-9b56-088790e2df83",
   "metadata": {},
   "outputs": [
    {
     "data": {
      "text/plain": [
       "7"
      ]
     },
     "execution_count": 29,
     "metadata": {},
     "output_type": "execute_result"
    }
   ],
   "source": [
    "x"
   ]
  },
  {
   "cell_type": "code",
   "execution_count": 30,
   "id": "af445f7b-9a4d-4d8c-87b9-40fe5b175cc1",
   "metadata": {},
   "outputs": [],
   "source": [
    "y = x+5"
   ]
  },
  {
   "cell_type": "code",
   "execution_count": 31,
   "id": "cf4cf924-d4eb-47c6-81e8-efc7e5e0d14b",
   "metadata": {},
   "outputs": [
    {
     "data": {
      "text/plain": [
       "12"
      ]
     },
     "execution_count": 31,
     "metadata": {},
     "output_type": "execute_result"
    }
   ],
   "source": [
    "y"
   ]
  },
  {
   "cell_type": "code",
   "execution_count": 32,
   "id": "33ce8bc5-63b2-43b1-9fa9-ed351579bf17",
   "metadata": {},
   "outputs": [],
   "source": [
    "y = y + 10"
   ]
  },
  {
   "cell_type": "code",
   "execution_count": 33,
   "id": "5a028c7b-75aa-495e-8986-c5e343939ba3",
   "metadata": {},
   "outputs": [
    {
     "data": {
      "text/plain": [
       "22"
      ]
     },
     "execution_count": 33,
     "metadata": {},
     "output_type": "execute_result"
    }
   ],
   "source": [
    "y"
   ]
  },
  {
   "cell_type": "code",
   "execution_count": 34,
   "id": "f7db4f74-b19c-468a-9334-1884bd909afe",
   "metadata": {},
   "outputs": [
    {
     "data": {
      "text/plain": [
       "7"
      ]
     },
     "execution_count": 34,
     "metadata": {},
     "output_type": "execute_result"
    }
   ],
   "source": [
    "x"
   ]
  },
  {
   "cell_type": "code",
   "execution_count": 35,
   "id": "ae3fcc16-63f5-4bc2-bfaf-ad0a21f277e2",
   "metadata": {},
   "outputs": [
    {
     "data": {
      "text/plain": [
       "22"
      ]
     },
     "execution_count": 35,
     "metadata": {},
     "output_type": "execute_result"
    }
   ],
   "source": [
    "y"
   ]
  },
  {
   "cell_type": "code",
   "execution_count": 36,
   "id": "6873c7ac-96dd-4604-b0c9-6aaf166537f9",
   "metadata": {},
   "outputs": [],
   "source": [
    "x, y = y, x"
   ]
  },
  {
   "cell_type": "code",
   "execution_count": 37,
   "id": "373a9b7b-4d75-4f46-b22f-98b692dd0c15",
   "metadata": {},
   "outputs": [
    {
     "data": {
      "text/plain": [
       "22"
      ]
     },
     "execution_count": 37,
     "metadata": {},
     "output_type": "execute_result"
    }
   ],
   "source": [
    "x"
   ]
  },
  {
   "cell_type": "code",
   "execution_count": 38,
   "id": "ced1e662-727a-4ae2-8ee7-c3679355f4be",
   "metadata": {},
   "outputs": [
    {
     "data": {
      "text/plain": [
       "7"
      ]
     },
     "execution_count": 38,
     "metadata": {},
     "output_type": "execute_result"
    }
   ],
   "source": [
    "y"
   ]
  },
  {
   "cell_type": "code",
   "execution_count": 39,
   "id": "051465ee-b3d4-473c-82c4-c0cfc25fdd3c",
   "metadata": {},
   "outputs": [],
   "source": [
    "s = \"\"\"This is\n",
    "a text\n",
    "that has\n",
    "multiple lines.\"\"\""
   ]
  },
  {
   "cell_type": "code",
   "execution_count": 40,
   "id": "ed92feaf-aa32-4a0b-bb91-7bf50041fc3a",
   "metadata": {},
   "outputs": [
    {
     "name": "stdout",
     "output_type": "stream",
     "text": [
      "This is\n",
      "a text\n",
      "that has\n",
      "multiple lines.\n"
     ]
    }
   ],
   "source": [
    "print(s)"
   ]
  },
  {
   "cell_type": "code",
   "execution_count": 41,
   "id": "8f4fd009-1c53-40a9-b74d-10a159f0467c",
   "metadata": {},
   "outputs": [],
   "source": [
    "z = 'This is\\n a text\\n that has\\n multiple lines.'"
   ]
  },
  {
   "cell_type": "code",
   "execution_count": 42,
   "id": "40a5f3ef-849e-4629-9cc9-396c9ad24dd0",
   "metadata": {},
   "outputs": [
    {
     "name": "stdout",
     "output_type": "stream",
     "text": [
      "This is\n",
      " a text\n",
      " that has\n",
      " multiple lines.\n"
     ]
    }
   ],
   "source": [
    "print(z)"
   ]
  },
  {
   "cell_type": "markdown",
   "id": "1137d909-f181-47ea-89d4-534051b99d8e",
   "metadata": {},
   "source": [
    "# Basic operators"
   ]
  },
  {
   "cell_type": "code",
   "execution_count": 43,
   "id": "9be2b89c-c103-4e96-82da-0402928000c4",
   "metadata": {},
   "outputs": [],
   "source": [
    "i1 = 5\n",
    "i2 = -3\n",
    "f1 = 3.4\n",
    "f2 = -7.8\n",
    "b1 = True\n",
    "b2 = False\n",
    "s1 = \"penguin\"\n",
    "s2 = \"sea lion\"\n",
    "s3 = \"5\"\n",
    "s4 = \"5.6\"\n",
    "s5 = \"True\"\n",
    "s6 = \"False\""
   ]
  },
  {
   "cell_type": "markdown",
   "id": "6ca7b8c3-3412-4cb2-8d78-35a24c45571f",
   "metadata": {},
   "source": [
    "## Add variables"
   ]
  },
  {
   "cell_type": "code",
   "execution_count": 44,
   "id": "2d3f4402-cc96-4306-9a28-6fa38b6e6a86",
   "metadata": {},
   "outputs": [],
   "source": [
    "a = i1+i2"
   ]
  },
  {
   "cell_type": "code",
   "execution_count": 45,
   "id": "cef04fb9-1f5c-4fc3-ad30-d25a8ce99f5b",
   "metadata": {},
   "outputs": [
    {
     "data": {
      "text/plain": [
       "2"
      ]
     },
     "execution_count": 45,
     "metadata": {},
     "output_type": "execute_result"
    }
   ],
   "source": [
    "a"
   ]
  },
  {
   "cell_type": "code",
   "execution_count": 46,
   "id": "6334cd32-4090-4335-bff3-b533736f6d0a",
   "metadata": {},
   "outputs": [
    {
     "data": {
      "text/plain": [
       "int"
      ]
     },
     "execution_count": 46,
     "metadata": {},
     "output_type": "execute_result"
    }
   ],
   "source": [
    "type(a)"
   ]
  },
  {
   "cell_type": "code",
   "execution_count": 47,
   "id": "82480736-3e8c-43b6-aefa-1439ee7d141b",
   "metadata": {},
   "outputs": [],
   "source": [
    "a = i1+f1"
   ]
  },
  {
   "cell_type": "code",
   "execution_count": 48,
   "id": "ff0ef4d7-b0ca-4f35-87f6-6cb63cd2ba2c",
   "metadata": {},
   "outputs": [
    {
     "data": {
      "text/plain": [
       "8.4"
      ]
     },
     "execution_count": 48,
     "metadata": {},
     "output_type": "execute_result"
    }
   ],
   "source": [
    "a"
   ]
  },
  {
   "cell_type": "code",
   "execution_count": 49,
   "id": "733ab748-380f-44b8-a1be-b44f3e9aeac9",
   "metadata": {},
   "outputs": [
    {
     "data": {
      "text/plain": [
       "float"
      ]
     },
     "execution_count": 49,
     "metadata": {},
     "output_type": "execute_result"
    }
   ],
   "source": [
    "type(a)"
   ]
  },
  {
   "cell_type": "code",
   "execution_count": 50,
   "id": "760f1bf8-f2d0-485f-af3b-8ec108d5c516",
   "metadata": {},
   "outputs": [],
   "source": [
    "a = i1+b1"
   ]
  },
  {
   "cell_type": "code",
   "execution_count": 51,
   "id": "391ab16c-66bb-4261-8dd6-b58bc391d158",
   "metadata": {},
   "outputs": [
    {
     "data": {
      "text/plain": [
       "6"
      ]
     },
     "execution_count": 51,
     "metadata": {},
     "output_type": "execute_result"
    }
   ],
   "source": [
    "a"
   ]
  },
  {
   "cell_type": "code",
   "execution_count": 52,
   "id": "05a06bd3-31e3-4155-b974-73dc47fec74d",
   "metadata": {},
   "outputs": [
    {
     "data": {
      "text/plain": [
       "int"
      ]
     },
     "execution_count": 52,
     "metadata": {},
     "output_type": "execute_result"
    }
   ],
   "source": [
    "type(a)"
   ]
  },
  {
   "cell_type": "code",
   "execution_count": 53,
   "id": "0e4b5993-537a-4722-9118-94960f2c9481",
   "metadata": {},
   "outputs": [],
   "source": [
    "# True is 1\n",
    "# False is 0"
   ]
  },
  {
   "cell_type": "code",
   "execution_count": 54,
   "id": "7feb217a-0d21-47b4-a1fb-03dedac5d14a",
   "metadata": {},
   "outputs": [
    {
     "ename": "TypeError",
     "evalue": "unsupported operand type(s) for +: 'int' and 'str'",
     "output_type": "error",
     "traceback": [
      "\u001b[0;31m---------------------------------------------------------------------------\u001b[0m",
      "\u001b[0;31mTypeError\u001b[0m                                 Traceback (most recent call last)",
      "Cell \u001b[0;32mIn[54], line 1\u001b[0m\n\u001b[0;32m----> 1\u001b[0m a \u001b[38;5;241m=\u001b[39m \u001b[43mi1\u001b[49m\u001b[38;5;241;43m+\u001b[39;49m\u001b[43ms1\u001b[49m\n",
      "\u001b[0;31mTypeError\u001b[0m: unsupported operand type(s) for +: 'int' and 'str'"
     ]
    }
   ],
   "source": [
    "a = i1+s1"
   ]
  },
  {
   "cell_type": "code",
   "execution_count": 55,
   "id": "21a36d1b-741e-456c-973d-878d1d4606d0",
   "metadata": {},
   "outputs": [],
   "source": [
    "a = \"i1\"+s1"
   ]
  },
  {
   "cell_type": "code",
   "execution_count": 56,
   "id": "7e0d3ada-a86f-4565-b66b-16eab1482103",
   "metadata": {},
   "outputs": [
    {
     "data": {
      "text/plain": [
       "'i1penguin'"
      ]
     },
     "execution_count": 56,
     "metadata": {},
     "output_type": "execute_result"
    }
   ],
   "source": [
    "a"
   ]
  },
  {
   "cell_type": "code",
   "execution_count": 57,
   "id": "dc424ac7-2372-4821-8172-3113b7d8606f",
   "metadata": {},
   "outputs": [],
   "source": [
    "a = s1+s2"
   ]
  },
  {
   "cell_type": "code",
   "execution_count": 58,
   "id": "6d78f899-e4e7-42fe-adca-515295f38789",
   "metadata": {},
   "outputs": [
    {
     "data": {
      "text/plain": [
       "'penguinsea lion'"
      ]
     },
     "execution_count": 58,
     "metadata": {},
     "output_type": "execute_result"
    }
   ],
   "source": [
    "a"
   ]
  },
  {
   "cell_type": "code",
   "execution_count": 59,
   "id": "93e8469e-2575-4c53-9307-e62fc45675cc",
   "metadata": {},
   "outputs": [],
   "source": [
    "a = str(i1)+s1"
   ]
  },
  {
   "cell_type": "code",
   "execution_count": 60,
   "id": "fd791709-8f92-40b6-b57f-70917a961914",
   "metadata": {},
   "outputs": [
    {
     "data": {
      "text/plain": [
       "'5penguin'"
      ]
     },
     "execution_count": 60,
     "metadata": {},
     "output_type": "execute_result"
    }
   ],
   "source": [
    "a"
   ]
  },
  {
   "cell_type": "code",
   "execution_count": 61,
   "id": "db3556ca-2314-427a-977c-a8dc7d5dc187",
   "metadata": {},
   "outputs": [],
   "source": [
    "a = f\"{i1}\"+s1"
   ]
  },
  {
   "cell_type": "code",
   "execution_count": 62,
   "id": "ca8fddb1-23d5-469a-901d-cd4df3d43ff4",
   "metadata": {},
   "outputs": [
    {
     "data": {
      "text/plain": [
       "'5penguin'"
      ]
     },
     "execution_count": 62,
     "metadata": {},
     "output_type": "execute_result"
    }
   ],
   "source": [
    "a"
   ]
  },
  {
   "cell_type": "code",
   "execution_count": 63,
   "id": "efad6dc0-e0fe-4e2f-8e53-5819955153f3",
   "metadata": {},
   "outputs": [],
   "source": [
    "a = f\"The answer to the question is {i1}\""
   ]
  },
  {
   "cell_type": "code",
   "execution_count": 64,
   "id": "1ec56170-1c2d-46bd-b2cb-ac30f4d8688e",
   "metadata": {},
   "outputs": [
    {
     "name": "stdout",
     "output_type": "stream",
     "text": [
      "The answer to the question is 5\n"
     ]
    }
   ],
   "source": [
    "print(a)"
   ]
  },
  {
   "cell_type": "code",
   "execution_count": 65,
   "id": "95ab2612-eba5-4c17-8826-b3559c692bb8",
   "metadata": {},
   "outputs": [],
   "source": [
    "a = f\"The type of i1 is {type(i1)}\""
   ]
  },
  {
   "cell_type": "code",
   "execution_count": 66,
   "id": "423ccd03-870f-4877-adbd-87c2d0408cdd",
   "metadata": {},
   "outputs": [
    {
     "data": {
      "text/plain": [
       "\"The type of i1 is <class 'int'>\""
      ]
     },
     "execution_count": 66,
     "metadata": {},
     "output_type": "execute_result"
    }
   ],
   "source": [
    "a"
   ]
  },
  {
   "cell_type": "code",
   "execution_count": 67,
   "id": "f5e32bd7-45b7-4b77-a06d-9685660be475",
   "metadata": {},
   "outputs": [],
   "source": [
    "# Add:\n",
    "# - float, int, bool: any combination\n",
    "# - string + string"
   ]
  },
  {
   "cell_type": "markdown",
   "id": "7d71955a-ec9d-4545-a1d7-fd4676d6d118",
   "metadata": {},
   "source": [
    "## Subtract"
   ]
  },
  {
   "cell_type": "code",
   "execution_count": 68,
   "id": "5fa2efba-8754-4054-8ea5-3a8a6a77a5e9",
   "metadata": {},
   "outputs": [],
   "source": [
    "a = i1-i2"
   ]
  },
  {
   "cell_type": "code",
   "execution_count": 69,
   "id": "7f5a3fbe-a8f1-4ba1-9b8f-2d7396ae96d7",
   "metadata": {},
   "outputs": [
    {
     "data": {
      "text/plain": [
       "8"
      ]
     },
     "execution_count": 69,
     "metadata": {},
     "output_type": "execute_result"
    }
   ],
   "source": [
    "a"
   ]
  },
  {
   "cell_type": "code",
   "execution_count": 70,
   "id": "7876aa62-34d4-4e9e-bb10-3c48f5e65875",
   "metadata": {},
   "outputs": [
    {
     "data": {
      "text/plain": [
       "int"
      ]
     },
     "execution_count": 70,
     "metadata": {},
     "output_type": "execute_result"
    }
   ],
   "source": [
    "type(a)"
   ]
  },
  {
   "cell_type": "code",
   "execution_count": 71,
   "id": "9177dc81-c848-40dc-a943-8168dd18d467",
   "metadata": {},
   "outputs": [],
   "source": [
    "a = i1-f1"
   ]
  },
  {
   "cell_type": "code",
   "execution_count": 72,
   "id": "1612d899-2a56-40c0-a4e2-deeb26c7504b",
   "metadata": {},
   "outputs": [
    {
     "data": {
      "text/plain": [
       "1.6"
      ]
     },
     "execution_count": 72,
     "metadata": {},
     "output_type": "execute_result"
    }
   ],
   "source": [
    "a"
   ]
  },
  {
   "cell_type": "code",
   "execution_count": 73,
   "id": "52907a0a-9d71-403b-bc2a-8ac2bcc27cf0",
   "metadata": {},
   "outputs": [
    {
     "data": {
      "text/plain": [
       "float"
      ]
     },
     "execution_count": 73,
     "metadata": {},
     "output_type": "execute_result"
    }
   ],
   "source": [
    "type(a)"
   ]
  },
  {
   "cell_type": "code",
   "execution_count": 74,
   "id": "1897e9e5-418b-4bad-8da9-8731529c4521",
   "metadata": {},
   "outputs": [],
   "source": [
    "a = f1-b1"
   ]
  },
  {
   "cell_type": "code",
   "execution_count": 75,
   "id": "8e8ae74b-e19f-49c1-bc7b-dc83aae47e41",
   "metadata": {},
   "outputs": [
    {
     "data": {
      "text/plain": [
       "2.4"
      ]
     },
     "execution_count": 75,
     "metadata": {},
     "output_type": "execute_result"
    }
   ],
   "source": [
    "a"
   ]
  },
  {
   "cell_type": "code",
   "execution_count": 76,
   "id": "c367115f-9603-495f-b769-85fd03336920",
   "metadata": {},
   "outputs": [
    {
     "data": {
      "text/plain": [
       "float"
      ]
     },
     "execution_count": 76,
     "metadata": {},
     "output_type": "execute_result"
    }
   ],
   "source": [
    "type(a)"
   ]
  },
  {
   "cell_type": "code",
   "execution_count": 77,
   "id": "d92ee612-8a80-4803-88d1-7ed1c102f259",
   "metadata": {},
   "outputs": [
    {
     "ename": "TypeError",
     "evalue": "unsupported operand type(s) for -: 'str' and 'str'",
     "output_type": "error",
     "traceback": [
      "\u001b[0;31m---------------------------------------------------------------------------\u001b[0m",
      "\u001b[0;31mTypeError\u001b[0m                                 Traceback (most recent call last)",
      "Cell \u001b[0;32mIn[77], line 1\u001b[0m\n\u001b[0;32m----> 1\u001b[0m a \u001b[38;5;241m=\u001b[39m \u001b[43ms1\u001b[49m\u001b[38;5;241;43m-\u001b[39;49m\u001b[43ms2\u001b[49m\n",
      "\u001b[0;31mTypeError\u001b[0m: unsupported operand type(s) for -: 'str' and 'str'"
     ]
    }
   ],
   "source": [
    "a = s1-s2"
   ]
  },
  {
   "cell_type": "code",
   "execution_count": 78,
   "id": "b289b825-bda3-4df8-9a0c-262f62af46a6",
   "metadata": {},
   "outputs": [
    {
     "data": {
      "text/plain": [
       "13.2"
      ]
     },
     "execution_count": 78,
     "metadata": {},
     "output_type": "execute_result"
    }
   ],
   "source": [
    "f1-i2-b1-b2-f2"
   ]
  },
  {
   "cell_type": "markdown",
   "id": "3b48aa73-7e60-450a-8fb4-54fcbf926e29",
   "metadata": {},
   "source": [
    "## Transforming to other type (casting)"
   ]
  },
  {
   "cell_type": "code",
   "execution_count": 79,
   "id": "d863fd7c-9fb4-487f-9589-b108fa8a6267",
   "metadata": {},
   "outputs": [
    {
     "name": "stdout",
     "output_type": "stream",
     "text": [
      "5\n"
     ]
    }
   ],
   "source": [
    "print(s3)"
   ]
  },
  {
   "cell_type": "code",
   "execution_count": 80,
   "id": "03019435-8fa0-4945-8abc-59304266d13a",
   "metadata": {},
   "outputs": [],
   "source": [
    "a = int(s3)"
   ]
  },
  {
   "cell_type": "code",
   "execution_count": 81,
   "id": "622da4e7-ce25-4eb2-a270-7442f59c8925",
   "metadata": {},
   "outputs": [
    {
     "data": {
      "text/plain": [
       "int"
      ]
     },
     "execution_count": 81,
     "metadata": {},
     "output_type": "execute_result"
    }
   ],
   "source": [
    "type(a)"
   ]
  },
  {
   "cell_type": "code",
   "execution_count": 82,
   "id": "f7917d97-f87b-4224-9611-025e31948b66",
   "metadata": {},
   "outputs": [
    {
     "data": {
      "text/plain": [
       "5"
      ]
     },
     "execution_count": 82,
     "metadata": {},
     "output_type": "execute_result"
    }
   ],
   "source": [
    "a"
   ]
  },
  {
   "cell_type": "code",
   "execution_count": 83,
   "id": "33dad220-080b-441d-b721-77171b594a53",
   "metadata": {},
   "outputs": [
    {
     "name": "stdout",
     "output_type": "stream",
     "text": [
      "5.6\n"
     ]
    }
   ],
   "source": [
    "print(s4)"
   ]
  },
  {
   "cell_type": "code",
   "execution_count": 84,
   "id": "2692c6f1-830f-4acd-8ed9-203c8ad513a6",
   "metadata": {},
   "outputs": [
    {
     "ename": "ValueError",
     "evalue": "invalid literal for int() with base 10: '5.6'",
     "output_type": "error",
     "traceback": [
      "\u001b[0;31m---------------------------------------------------------------------------\u001b[0m",
      "\u001b[0;31mValueError\u001b[0m                                Traceback (most recent call last)",
      "Cell \u001b[0;32mIn[84], line 1\u001b[0m\n\u001b[0;32m----> 1\u001b[0m a \u001b[38;5;241m=\u001b[39m \u001b[38;5;28;43mint\u001b[39;49m\u001b[43m(\u001b[49m\u001b[43ms4\u001b[49m\u001b[43m)\u001b[49m\n",
      "\u001b[0;31mValueError\u001b[0m: invalid literal for int() with base 10: '5.6'"
     ]
    }
   ],
   "source": [
    "a = int(s4)"
   ]
  },
  {
   "cell_type": "code",
   "execution_count": 85,
   "id": "c71867a5-4b76-40bd-a916-293f8e232baa",
   "metadata": {},
   "outputs": [],
   "source": [
    "a = float(s4)"
   ]
  },
  {
   "cell_type": "code",
   "execution_count": 86,
   "id": "e01e7e86-575b-4d2d-b6df-1a391de2252d",
   "metadata": {},
   "outputs": [
    {
     "data": {
      "text/plain": [
       "5.6"
      ]
     },
     "execution_count": 86,
     "metadata": {},
     "output_type": "execute_result"
    }
   ],
   "source": [
    "a"
   ]
  },
  {
   "cell_type": "code",
   "execution_count": 87,
   "id": "1d0513a8-819e-4f3e-93cb-30aa651b47b4",
   "metadata": {},
   "outputs": [
    {
     "data": {
      "text/plain": [
       "float"
      ]
     },
     "execution_count": 87,
     "metadata": {},
     "output_type": "execute_result"
    }
   ],
   "source": [
    "type(a)"
   ]
  },
  {
   "cell_type": "code",
   "execution_count": 88,
   "id": "d2d06774-f5a6-43f2-a969-8707aa38b1ce",
   "metadata": {},
   "outputs": [
    {
     "data": {
      "text/plain": [
       "'5'"
      ]
     },
     "execution_count": 88,
     "metadata": {},
     "output_type": "execute_result"
    }
   ],
   "source": [
    "s3"
   ]
  },
  {
   "cell_type": "code",
   "execution_count": 89,
   "id": "5617a63d-0888-49e4-8cbd-2b1cc7a4ece4",
   "metadata": {},
   "outputs": [],
   "source": [
    "a = float(s3)"
   ]
  },
  {
   "cell_type": "code",
   "execution_count": 90,
   "id": "1b28fddc-13da-4755-9e34-be9f6ddacaad",
   "metadata": {},
   "outputs": [
    {
     "data": {
      "text/plain": [
       "5.0"
      ]
     },
     "execution_count": 90,
     "metadata": {},
     "output_type": "execute_result"
    }
   ],
   "source": [
    "a"
   ]
  },
  {
   "cell_type": "code",
   "execution_count": 91,
   "id": "74866bbd-ba26-442c-998a-d091c2c4d510",
   "metadata": {},
   "outputs": [
    {
     "data": {
      "text/plain": [
       "float"
      ]
     },
     "execution_count": 91,
     "metadata": {},
     "output_type": "execute_result"
    }
   ],
   "source": [
    "type(a)"
   ]
  },
  {
   "cell_type": "code",
   "execution_count": 92,
   "id": "c3484d73-c538-4bad-8fd8-5d8ad2c37a34",
   "metadata": {},
   "outputs": [
    {
     "name": "stdout",
     "output_type": "stream",
     "text": [
      "True\n"
     ]
    }
   ],
   "source": [
    "print(s5)"
   ]
  },
  {
   "cell_type": "code",
   "execution_count": 93,
   "id": "0a7e23b3-b625-4858-9e44-1a65aab47224",
   "metadata": {},
   "outputs": [],
   "source": [
    "a = bool(s5)"
   ]
  },
  {
   "cell_type": "code",
   "execution_count": 94,
   "id": "432f5fc6-7c7e-4d5b-879d-96ffaf4c831e",
   "metadata": {},
   "outputs": [
    {
     "data": {
      "text/plain": [
       "True"
      ]
     },
     "execution_count": 94,
     "metadata": {},
     "output_type": "execute_result"
    }
   ],
   "source": [
    "a"
   ]
  },
  {
   "cell_type": "code",
   "execution_count": 95,
   "id": "c309f702-204c-4017-9ce1-1bfbfd89bc00",
   "metadata": {},
   "outputs": [
    {
     "data": {
      "text/plain": [
       "bool"
      ]
     },
     "execution_count": 95,
     "metadata": {},
     "output_type": "execute_result"
    }
   ],
   "source": [
    "type(a)"
   ]
  },
  {
   "cell_type": "code",
   "execution_count": 96,
   "id": "9b6d8193-a163-4280-8363-f40921ab07ed",
   "metadata": {},
   "outputs": [],
   "source": [
    "a = bool(1)"
   ]
  },
  {
   "cell_type": "code",
   "execution_count": 97,
   "id": "00122614-55f2-4368-abed-285c130c28fe",
   "metadata": {},
   "outputs": [
    {
     "data": {
      "text/plain": [
       "True"
      ]
     },
     "execution_count": 97,
     "metadata": {},
     "output_type": "execute_result"
    }
   ],
   "source": [
    "a"
   ]
  },
  {
   "cell_type": "code",
   "execution_count": 98,
   "id": "c527cbcb-4f66-42a0-a99f-06972451dd30",
   "metadata": {},
   "outputs": [
    {
     "data": {
      "text/plain": [
       "bool"
      ]
     },
     "execution_count": 98,
     "metadata": {},
     "output_type": "execute_result"
    }
   ],
   "source": [
    "type(a)"
   ]
  },
  {
   "cell_type": "code",
   "execution_count": 99,
   "id": "2d56ecc6-17e6-4a20-ab5d-0b121fd0e7a8",
   "metadata": {},
   "outputs": [],
   "source": [
    "a = bool(0)"
   ]
  },
  {
   "cell_type": "code",
   "execution_count": 100,
   "id": "43b068cb-55a7-4c3f-a8fd-0bbf2d1710e6",
   "metadata": {},
   "outputs": [
    {
     "data": {
      "text/plain": [
       "False"
      ]
     },
     "execution_count": 100,
     "metadata": {},
     "output_type": "execute_result"
    }
   ],
   "source": [
    "a"
   ]
  },
  {
   "cell_type": "code",
   "execution_count": 101,
   "id": "7fa4130f-2055-4a8f-9ce1-9c8380283314",
   "metadata": {},
   "outputs": [
    {
     "data": {
      "text/plain": [
       "bool"
      ]
     },
     "execution_count": 101,
     "metadata": {},
     "output_type": "execute_result"
    }
   ],
   "source": [
    "type(a)"
   ]
  },
  {
   "cell_type": "code",
   "execution_count": 102,
   "id": "64741aeb-4e2c-43b9-9a4c-90237d934ad5",
   "metadata": {},
   "outputs": [],
   "source": [
    "a = bool(-3)"
   ]
  },
  {
   "cell_type": "code",
   "execution_count": 103,
   "id": "ac29e11d-2409-4cd8-a15c-ae05748d5cc7",
   "metadata": {},
   "outputs": [
    {
     "data": {
      "text/plain": [
       "True"
      ]
     },
     "execution_count": 103,
     "metadata": {},
     "output_type": "execute_result"
    }
   ],
   "source": [
    "a"
   ]
  },
  {
   "cell_type": "code",
   "execution_count": 104,
   "id": "6033b4d1-ef2f-4871-9044-575682a1ac08",
   "metadata": {},
   "outputs": [
    {
     "data": {
      "text/plain": [
       "bool"
      ]
     },
     "execution_count": 104,
     "metadata": {},
     "output_type": "execute_result"
    }
   ],
   "source": [
    "type(a)"
   ]
  },
  {
   "cell_type": "code",
   "execution_count": 105,
   "id": "215c1cfc-4ff2-4329-9377-eb6dd1de4616",
   "metadata": {},
   "outputs": [],
   "source": [
    "a = bool(7.7)"
   ]
  },
  {
   "cell_type": "code",
   "execution_count": 106,
   "id": "f4ed19a5-09c4-49b5-a00a-0b7080dee4e8",
   "metadata": {},
   "outputs": [
    {
     "data": {
      "text/plain": [
       "True"
      ]
     },
     "execution_count": 106,
     "metadata": {},
     "output_type": "execute_result"
    }
   ],
   "source": [
    "a"
   ]
  },
  {
   "cell_type": "code",
   "execution_count": 107,
   "id": "1327b472-57cf-423c-878a-ac1885344d75",
   "metadata": {},
   "outputs": [
    {
     "data": {
      "text/plain": [
       "bool"
      ]
     },
     "execution_count": 107,
     "metadata": {},
     "output_type": "execute_result"
    }
   ],
   "source": [
    "type(a)"
   ]
  },
  {
   "cell_type": "code",
   "execution_count": 108,
   "id": "612f639e-c3f2-4ec8-bb9b-100bad64d250",
   "metadata": {},
   "outputs": [],
   "source": [
    "a = bool(\"penguin\")"
   ]
  },
  {
   "cell_type": "code",
   "execution_count": 109,
   "id": "4f7c4e7e-3ba9-4d37-8909-3833a80dcf25",
   "metadata": {},
   "outputs": [
    {
     "data": {
      "text/plain": [
       "True"
      ]
     },
     "execution_count": 109,
     "metadata": {},
     "output_type": "execute_result"
    }
   ],
   "source": [
    "a"
   ]
  },
  {
   "cell_type": "code",
   "execution_count": 110,
   "id": "ba0b77ce-7455-4df3-9b2d-6a37aa2f3f9f",
   "metadata": {},
   "outputs": [
    {
     "data": {
      "text/plain": [
       "bool"
      ]
     },
     "execution_count": 110,
     "metadata": {},
     "output_type": "execute_result"
    }
   ],
   "source": [
    "type(a)"
   ]
  },
  {
   "cell_type": "code",
   "execution_count": 111,
   "id": "875c6c54-ef22-41ed-a5c6-494b5b6e361b",
   "metadata": {},
   "outputs": [],
   "source": [
    "a = bool(\"\")"
   ]
  },
  {
   "cell_type": "code",
   "execution_count": 112,
   "id": "707a65b3-3032-4123-be88-887b75ffe04e",
   "metadata": {},
   "outputs": [
    {
     "data": {
      "text/plain": [
       "False"
      ]
     },
     "execution_count": 112,
     "metadata": {},
     "output_type": "execute_result"
    }
   ],
   "source": [
    "a"
   ]
  },
  {
   "cell_type": "code",
   "execution_count": 113,
   "id": "1e2deeb6-06de-42cc-94bf-901292a0d94c",
   "metadata": {},
   "outputs": [
    {
     "data": {
      "text/plain": [
       "bool"
      ]
     },
     "execution_count": 113,
     "metadata": {},
     "output_type": "execute_result"
    }
   ],
   "source": [
    "type(a)"
   ]
  },
  {
   "cell_type": "code",
   "execution_count": 114,
   "id": "f912ccc3-a9cd-40f1-ba61-86c0631b8c46",
   "metadata": {},
   "outputs": [],
   "source": [
    "a = float(\"3.4\")"
   ]
  },
  {
   "cell_type": "code",
   "execution_count": 115,
   "id": "77ac540f-deb0-4367-a5a7-da6c4185bd34",
   "metadata": {},
   "outputs": [
    {
     "data": {
      "text/plain": [
       "3.4"
      ]
     },
     "execution_count": 115,
     "metadata": {},
     "output_type": "execute_result"
    }
   ],
   "source": [
    "a"
   ]
  },
  {
   "cell_type": "code",
   "execution_count": 116,
   "id": "17f99e37-3e2e-492f-b5f1-1667c923f901",
   "metadata": {},
   "outputs": [
    {
     "data": {
      "text/plain": [
       "float"
      ]
     },
     "execution_count": 116,
     "metadata": {},
     "output_type": "execute_result"
    }
   ],
   "source": [
    "type(a)"
   ]
  },
  {
   "cell_type": "code",
   "execution_count": 117,
   "id": "43c45066-f23b-4c87-8284-706291dfb063",
   "metadata": {},
   "outputs": [],
   "source": [
    "a = str(5.6)"
   ]
  },
  {
   "cell_type": "code",
   "execution_count": 118,
   "id": "c66802ba-790f-431b-b5e1-871c9d32a235",
   "metadata": {},
   "outputs": [
    {
     "data": {
      "text/plain": [
       "'5.6'"
      ]
     },
     "execution_count": 118,
     "metadata": {},
     "output_type": "execute_result"
    }
   ],
   "source": [
    "a"
   ]
  },
  {
   "cell_type": "code",
   "execution_count": 119,
   "id": "72da52f6-d660-423d-a0c2-6db27bb59f06",
   "metadata": {},
   "outputs": [
    {
     "data": {
      "text/plain": [
       "str"
      ]
     },
     "execution_count": 119,
     "metadata": {},
     "output_type": "execute_result"
    }
   ],
   "source": [
    "type(a)"
   ]
  },
  {
   "cell_type": "markdown",
   "id": "c8b0e501-cb83-4f4e-ba8f-97010ab608c8",
   "metadata": {},
   "source": [
    "## Multiply variables"
   ]
  },
  {
   "cell_type": "code",
   "execution_count": 120,
   "id": "8ae94012-4e4b-4430-9c4c-25856cd17521",
   "metadata": {},
   "outputs": [],
   "source": [
    "a = i1*i2"
   ]
  },
  {
   "cell_type": "code",
   "execution_count": 121,
   "id": "970fb927-3b19-4a1a-8fe5-f276b84e4a9e",
   "metadata": {},
   "outputs": [
    {
     "data": {
      "text/plain": [
       "-15"
      ]
     },
     "execution_count": 121,
     "metadata": {},
     "output_type": "execute_result"
    }
   ],
   "source": [
    "a"
   ]
  },
  {
   "cell_type": "code",
   "execution_count": 122,
   "id": "e473eefe-2f37-441c-a18b-8db6c1e4bb3e",
   "metadata": {},
   "outputs": [
    {
     "data": {
      "text/plain": [
       "int"
      ]
     },
     "execution_count": 122,
     "metadata": {},
     "output_type": "execute_result"
    }
   ],
   "source": [
    "type(a)"
   ]
  },
  {
   "cell_type": "code",
   "execution_count": 123,
   "id": "51f1038d-f9d3-4598-9ed2-d3696300865e",
   "metadata": {},
   "outputs": [],
   "source": [
    "a = i1*f1"
   ]
  },
  {
   "cell_type": "code",
   "execution_count": 124,
   "id": "508a0d37-f115-4d0a-b61b-11ffe9e615f1",
   "metadata": {},
   "outputs": [
    {
     "data": {
      "text/plain": [
       "17.0"
      ]
     },
     "execution_count": 124,
     "metadata": {},
     "output_type": "execute_result"
    }
   ],
   "source": [
    "a"
   ]
  },
  {
   "cell_type": "code",
   "execution_count": 125,
   "id": "0031d53d-b0d2-4ee0-b2a1-46098a68ec95",
   "metadata": {},
   "outputs": [
    {
     "data": {
      "text/plain": [
       "float"
      ]
     },
     "execution_count": 125,
     "metadata": {},
     "output_type": "execute_result"
    }
   ],
   "source": [
    "type(a)"
   ]
  },
  {
   "cell_type": "code",
   "execution_count": 126,
   "id": "8175cd53-a158-4a71-ba30-9848443f2165",
   "metadata": {},
   "outputs": [],
   "source": [
    "a = f1*f2"
   ]
  },
  {
   "cell_type": "code",
   "execution_count": 127,
   "id": "d41bf294-3554-45cf-b842-fab61ba8c498",
   "metadata": {},
   "outputs": [
    {
     "data": {
      "text/plain": [
       "-26.52"
      ]
     },
     "execution_count": 127,
     "metadata": {},
     "output_type": "execute_result"
    }
   ],
   "source": [
    "a"
   ]
  },
  {
   "cell_type": "code",
   "execution_count": 128,
   "id": "3188cd47-541b-44f4-950e-53883b7a1948",
   "metadata": {},
   "outputs": [
    {
     "data": {
      "text/plain": [
       "float"
      ]
     },
     "execution_count": 128,
     "metadata": {},
     "output_type": "execute_result"
    }
   ],
   "source": [
    "type(a)"
   ]
  },
  {
   "cell_type": "code",
   "execution_count": 129,
   "id": "c8399ef7-4232-4489-bb14-70f1b7cadd5b",
   "metadata": {},
   "outputs": [],
   "source": [
    "a = b1*f1"
   ]
  },
  {
   "cell_type": "code",
   "execution_count": 130,
   "id": "2dab5b45-628b-43f8-888a-63317640d79d",
   "metadata": {},
   "outputs": [
    {
     "data": {
      "text/plain": [
       "3.4"
      ]
     },
     "execution_count": 130,
     "metadata": {},
     "output_type": "execute_result"
    }
   ],
   "source": [
    "a"
   ]
  },
  {
   "cell_type": "code",
   "execution_count": 131,
   "id": "c613551a-4457-4d5d-9b7f-680414d7d726",
   "metadata": {},
   "outputs": [
    {
     "data": {
      "text/plain": [
       "float"
      ]
     },
     "execution_count": 131,
     "metadata": {},
     "output_type": "execute_result"
    }
   ],
   "source": [
    "type(a)"
   ]
  },
  {
   "cell_type": "code",
   "execution_count": 132,
   "id": "cc3aac7a-ca09-4131-a6d9-c35e2eebf5e8",
   "metadata": {},
   "outputs": [],
   "source": [
    "a = b2*i1"
   ]
  },
  {
   "cell_type": "code",
   "execution_count": 133,
   "id": "496c1f2f-b531-4a54-b051-c3707f1a5869",
   "metadata": {},
   "outputs": [
    {
     "data": {
      "text/plain": [
       "0"
      ]
     },
     "execution_count": 133,
     "metadata": {},
     "output_type": "execute_result"
    }
   ],
   "source": [
    "a"
   ]
  },
  {
   "cell_type": "code",
   "execution_count": 134,
   "id": "92ba509c-b9db-4999-b7f8-b188f5597869",
   "metadata": {},
   "outputs": [
    {
     "data": {
      "text/plain": [
       "int"
      ]
     },
     "execution_count": 134,
     "metadata": {},
     "output_type": "execute_result"
    }
   ],
   "source": [
    "type(a)"
   ]
  },
  {
   "cell_type": "code",
   "execution_count": 135,
   "id": "d6c80c87-53bb-4cf5-83e3-5fdf9ca87629",
   "metadata": {},
   "outputs": [
    {
     "ename": "TypeError",
     "evalue": "can't multiply sequence by non-int of type 'str'",
     "output_type": "error",
     "traceback": [
      "\u001b[0;31m---------------------------------------------------------------------------\u001b[0m",
      "\u001b[0;31mTypeError\u001b[0m                                 Traceback (most recent call last)",
      "Cell \u001b[0;32mIn[135], line 1\u001b[0m\n\u001b[0;32m----> 1\u001b[0m a \u001b[38;5;241m=\u001b[39m \u001b[43ms1\u001b[49m\u001b[38;5;241;43m*\u001b[39;49m\u001b[43ms2\u001b[49m\n",
      "\u001b[0;31mTypeError\u001b[0m: can't multiply sequence by non-int of type 'str'"
     ]
    }
   ],
   "source": [
    "a = s1*s2"
   ]
  },
  {
   "cell_type": "code",
   "execution_count": 136,
   "id": "deada383-38ae-475f-856c-adbd23443f38",
   "metadata": {},
   "outputs": [],
   "source": [
    "a = b1*s1"
   ]
  },
  {
   "cell_type": "code",
   "execution_count": 137,
   "id": "9ca147a3-ccc2-4b78-b851-9367d4c163bf",
   "metadata": {},
   "outputs": [
    {
     "data": {
      "text/plain": [
       "'penguin'"
      ]
     },
     "execution_count": 137,
     "metadata": {},
     "output_type": "execute_result"
    }
   ],
   "source": [
    "a"
   ]
  },
  {
   "cell_type": "code",
   "execution_count": 138,
   "id": "6548ff54-96c8-4023-af56-81e78ec2efa2",
   "metadata": {},
   "outputs": [
    {
     "data": {
      "text/plain": [
       "str"
      ]
     },
     "execution_count": 138,
     "metadata": {},
     "output_type": "execute_result"
    }
   ],
   "source": [
    "type(a)"
   ]
  },
  {
   "cell_type": "code",
   "execution_count": 139,
   "id": "abaf8c2e-40b2-449f-bcde-1a46017a6072",
   "metadata": {},
   "outputs": [],
   "source": [
    "a = b2*s1"
   ]
  },
  {
   "cell_type": "code",
   "execution_count": 140,
   "id": "2d9e525c-79ca-427b-9c1b-cc7f61eab212",
   "metadata": {},
   "outputs": [
    {
     "data": {
      "text/plain": [
       "''"
      ]
     },
     "execution_count": 140,
     "metadata": {},
     "output_type": "execute_result"
    }
   ],
   "source": [
    "a"
   ]
  },
  {
   "cell_type": "code",
   "execution_count": 141,
   "id": "a48810b6-3d7e-44c1-9877-743cbed2d2ff",
   "metadata": {},
   "outputs": [
    {
     "data": {
      "text/plain": [
       "str"
      ]
     },
     "execution_count": 141,
     "metadata": {},
     "output_type": "execute_result"
    }
   ],
   "source": [
    "type(a)"
   ]
  },
  {
   "cell_type": "code",
   "execution_count": 142,
   "id": "2486e30a-f68b-4cd3-ab4c-2bc782450418",
   "metadata": {},
   "outputs": [
    {
     "data": {
      "text/plain": [
       "5"
      ]
     },
     "execution_count": 142,
     "metadata": {},
     "output_type": "execute_result"
    }
   ],
   "source": [
    "i1"
   ]
  },
  {
   "cell_type": "code",
   "execution_count": 143,
   "id": "5e020d17-b693-4156-bb85-a59a4a2933d3",
   "metadata": {},
   "outputs": [],
   "source": [
    "a = i1*s1"
   ]
  },
  {
   "cell_type": "code",
   "execution_count": 144,
   "id": "98def908-fa07-4091-a4e1-b65ee66b721c",
   "metadata": {},
   "outputs": [
    {
     "data": {
      "text/plain": [
       "'penguinpenguinpenguinpenguinpenguin'"
      ]
     },
     "execution_count": 144,
     "metadata": {},
     "output_type": "execute_result"
    }
   ],
   "source": [
    "a"
   ]
  },
  {
   "cell_type": "code",
   "execution_count": 145,
   "id": "3ae47dce-76c7-4220-bc38-2789e1e658c5",
   "metadata": {},
   "outputs": [
    {
     "data": {
      "text/plain": [
       "str"
      ]
     },
     "execution_count": 145,
     "metadata": {},
     "output_type": "execute_result"
    }
   ],
   "source": [
    "type(a)"
   ]
  },
  {
   "cell_type": "code",
   "execution_count": 147,
   "id": "0c3be558-5aa2-4ffc-847a-839d50e474e9",
   "metadata": {},
   "outputs": [
    {
     "data": {
      "text/plain": [
       "-3"
      ]
     },
     "execution_count": 147,
     "metadata": {},
     "output_type": "execute_result"
    }
   ],
   "source": [
    "i2"
   ]
  },
  {
   "cell_type": "code",
   "execution_count": 148,
   "id": "5012c0f1-7a73-46ca-a6f5-896f63041a26",
   "metadata": {},
   "outputs": [],
   "source": [
    "a = i2*s1"
   ]
  },
  {
   "cell_type": "code",
   "execution_count": 149,
   "id": "3843f0aa-0824-47e6-b03d-bbc693c5baf1",
   "metadata": {},
   "outputs": [
    {
     "data": {
      "text/plain": [
       "''"
      ]
     },
     "execution_count": 149,
     "metadata": {},
     "output_type": "execute_result"
    }
   ],
   "source": [
    "a"
   ]
  },
  {
   "cell_type": "code",
   "execution_count": 150,
   "id": "9b7c2ca3-34d4-47ce-961d-691ffeaede45",
   "metadata": {},
   "outputs": [
    {
     "data": {
      "text/plain": [
       "str"
      ]
     },
     "execution_count": 150,
     "metadata": {},
     "output_type": "execute_result"
    }
   ],
   "source": [
    "type(a)"
   ]
  },
  {
   "cell_type": "code",
   "execution_count": 151,
   "id": "7675fa4d-b539-4d3f-b367-75cb13c7b0da",
   "metadata": {},
   "outputs": [
    {
     "ename": "TypeError",
     "evalue": "can't multiply sequence by non-int of type 'float'",
     "output_type": "error",
     "traceback": [
      "\u001b[0;31m---------------------------------------------------------------------------\u001b[0m",
      "\u001b[0;31mTypeError\u001b[0m                                 Traceback (most recent call last)",
      "Cell \u001b[0;32mIn[151], line 1\u001b[0m\n\u001b[0;32m----> 1\u001b[0m a \u001b[38;5;241m=\u001b[39m \u001b[43mf1\u001b[49m\u001b[38;5;241;43m*\u001b[39;49m\u001b[43ms1\u001b[49m\n",
      "\u001b[0;31mTypeError\u001b[0m: can't multiply sequence by non-int of type 'float'"
     ]
    }
   ],
   "source": [
    "a = f1*s1"
   ]
  },
  {
   "cell_type": "code",
   "execution_count": 152,
   "id": "dd9fffdd-1044-41e8-97da-d50ac841d436",
   "metadata": {},
   "outputs": [
    {
     "ename": "TypeError",
     "evalue": "can't multiply sequence by non-int of type 'float'",
     "output_type": "error",
     "traceback": [
      "\u001b[0;31m---------------------------------------------------------------------------\u001b[0m",
      "\u001b[0;31mTypeError\u001b[0m                                 Traceback (most recent call last)",
      "Cell \u001b[0;32mIn[152], line 1\u001b[0m\n\u001b[0;32m----> 1\u001b[0m a \u001b[38;5;241m=\u001b[39m \u001b[38;5;241;43m5.0\u001b[39;49m\u001b[38;5;241;43m*\u001b[39;49m\u001b[38;5;124;43m\"\u001b[39;49m\u001b[38;5;124;43mpenguin\u001b[39;49m\u001b[38;5;124;43m\"\u001b[39;49m\n",
      "\u001b[0;31mTypeError\u001b[0m: can't multiply sequence by non-int of type 'float'"
     ]
    }
   ],
   "source": [
    "a = 5.0*\"penguin\""
   ]
  },
  {
   "cell_type": "markdown",
   "id": "21af243d-645a-4e42-8216-8a9d0725a37f",
   "metadata": {},
   "source": [
    "## Division"
   ]
  },
  {
   "cell_type": "code",
   "execution_count": 153,
   "id": "5a2e2646-2af8-4fcd-beae-338dc28dfbe2",
   "metadata": {},
   "outputs": [],
   "source": [
    "a = i1/i2"
   ]
  },
  {
   "cell_type": "code",
   "execution_count": 154,
   "id": "61b424ea-7cb9-4ff7-a284-bf30a575d84c",
   "metadata": {},
   "outputs": [
    {
     "data": {
      "text/plain": [
       "-1.6666666666666667"
      ]
     },
     "execution_count": 154,
     "metadata": {},
     "output_type": "execute_result"
    }
   ],
   "source": [
    "a"
   ]
  },
  {
   "cell_type": "code",
   "execution_count": 155,
   "id": "ce1b2176-26c7-4c85-92f5-a96bf76b8bd1",
   "metadata": {},
   "outputs": [
    {
     "data": {
      "text/plain": [
       "float"
      ]
     },
     "execution_count": 155,
     "metadata": {},
     "output_type": "execute_result"
    }
   ],
   "source": [
    "type(a)"
   ]
  },
  {
   "cell_type": "code",
   "execution_count": 156,
   "id": "1e9b2693-1a45-4562-8ac3-4efa22997d2c",
   "metadata": {},
   "outputs": [],
   "source": [
    "a = f1/f2"
   ]
  },
  {
   "cell_type": "code",
   "execution_count": 157,
   "id": "151ca41e-a65b-4ae5-aa75-6e251569d5d6",
   "metadata": {},
   "outputs": [
    {
     "data": {
      "text/plain": [
       "-0.4358974358974359"
      ]
     },
     "execution_count": 157,
     "metadata": {},
     "output_type": "execute_result"
    }
   ],
   "source": [
    "a"
   ]
  },
  {
   "cell_type": "code",
   "execution_count": 158,
   "id": "e157fad4-9524-4364-9979-06090ee6fe77",
   "metadata": {},
   "outputs": [
    {
     "data": {
      "text/plain": [
       "float"
      ]
     },
     "execution_count": 158,
     "metadata": {},
     "output_type": "execute_result"
    }
   ],
   "source": [
    "type(a)"
   ]
  },
  {
   "cell_type": "code",
   "execution_count": 159,
   "id": "42e19647-a140-472f-b958-f3afddffd440",
   "metadata": {},
   "outputs": [],
   "source": [
    "a = f1/b1"
   ]
  },
  {
   "cell_type": "code",
   "execution_count": 160,
   "id": "1fdd1e22-5af9-4d63-afc8-49e1302e5ba5",
   "metadata": {},
   "outputs": [
    {
     "data": {
      "text/plain": [
       "3.4"
      ]
     },
     "execution_count": 160,
     "metadata": {},
     "output_type": "execute_result"
    }
   ],
   "source": [
    "a"
   ]
  },
  {
   "cell_type": "code",
   "execution_count": 161,
   "id": "81129610-ee19-4165-9065-47265f244a21",
   "metadata": {},
   "outputs": [
    {
     "data": {
      "text/plain": [
       "float"
      ]
     },
     "execution_count": 161,
     "metadata": {},
     "output_type": "execute_result"
    }
   ],
   "source": [
    "type(a)"
   ]
  },
  {
   "cell_type": "code",
   "execution_count": 162,
   "id": "2b9af6c4-1157-4164-9e75-93e3f4060983",
   "metadata": {},
   "outputs": [
    {
     "ename": "ZeroDivisionError",
     "evalue": "float division by zero",
     "output_type": "error",
     "traceback": [
      "\u001b[0;31m---------------------------------------------------------------------------\u001b[0m",
      "\u001b[0;31mZeroDivisionError\u001b[0m                         Traceback (most recent call last)",
      "Cell \u001b[0;32mIn[162], line 1\u001b[0m\n\u001b[0;32m----> 1\u001b[0m a \u001b[38;5;241m=\u001b[39m \u001b[43mf1\u001b[49m\u001b[38;5;241;43m/\u001b[39;49m\u001b[43mb2\u001b[49m\n",
      "\u001b[0;31mZeroDivisionError\u001b[0m: float division by zero"
     ]
    }
   ],
   "source": [
    "a = f1/b2"
   ]
  },
  {
   "cell_type": "code",
   "execution_count": 163,
   "id": "aeff3390-e167-49d0-ae21-af046b9b20b3",
   "metadata": {},
   "outputs": [
    {
     "ename": "ZeroDivisionError",
     "evalue": "division by zero",
     "output_type": "error",
     "traceback": [
      "\u001b[0;31m---------------------------------------------------------------------------\u001b[0m",
      "\u001b[0;31mZeroDivisionError\u001b[0m                         Traceback (most recent call last)",
      "Cell \u001b[0;32mIn[163], line 1\u001b[0m\n\u001b[0;32m----> 1\u001b[0m a \u001b[38;5;241m=\u001b[39m \u001b[38;5;241;43m5\u001b[39;49m\u001b[38;5;241;43m/\u001b[39;49m\u001b[38;5;241;43m0\u001b[39;49m\n",
      "\u001b[0;31mZeroDivisionError\u001b[0m: division by zero"
     ]
    }
   ],
   "source": [
    "a = 5/0"
   ]
  },
  {
   "cell_type": "code",
   "execution_count": 164,
   "id": "47e8677f-fd51-4c47-a065-07ea0c7faf93",
   "metadata": {},
   "outputs": [
    {
     "ename": "ValueError",
     "evalue": "invalid literal for int() with base 10: '5.6'",
     "output_type": "error",
     "traceback": [
      "\u001b[0;31m---------------------------------------------------------------------------\u001b[0m",
      "\u001b[0;31mValueError\u001b[0m                                Traceback (most recent call last)",
      "Cell \u001b[0;32mIn[164], line 1\u001b[0m\n\u001b[0;32m----> 1\u001b[0m \u001b[38;5;28;43mint\u001b[39;49m\u001b[43m(\u001b[49m\u001b[38;5;124;43m\"\u001b[39;49m\u001b[38;5;124;43m5.6\u001b[39;49m\u001b[38;5;124;43m\"\u001b[39;49m\u001b[43m)\u001b[49m\n",
      "\u001b[0;31mValueError\u001b[0m: invalid literal for int() with base 10: '5.6'"
     ]
    }
   ],
   "source": [
    "int(\"5.6\")"
   ]
  },
  {
   "cell_type": "code",
   "execution_count": 165,
   "id": "8fbbe805-1d13-4d7d-8330-d802e689d065",
   "metadata": {},
   "outputs": [],
   "source": [
    "a = False/3"
   ]
  },
  {
   "cell_type": "code",
   "execution_count": 166,
   "id": "55b28427-e714-4eef-9561-682d4111e891",
   "metadata": {},
   "outputs": [
    {
     "data": {
      "text/plain": [
       "0.0"
      ]
     },
     "execution_count": 166,
     "metadata": {},
     "output_type": "execute_result"
    }
   ],
   "source": [
    "a"
   ]
  },
  {
   "cell_type": "code",
   "execution_count": 167,
   "id": "5a4a2bc5-7324-429c-8a4f-50a73b295e13",
   "metadata": {},
   "outputs": [
    {
     "data": {
      "text/plain": [
       "float"
      ]
     },
     "execution_count": 167,
     "metadata": {},
     "output_type": "execute_result"
    }
   ],
   "source": [
    "type(a)"
   ]
  },
  {
   "cell_type": "code",
   "execution_count": 168,
   "id": "fdc288f0-6f58-47e2-9e26-2159ef680b14",
   "metadata": {},
   "outputs": [
    {
     "ename": "TypeError",
     "evalue": "unsupported operand type(s) for /: 'str' and 'int'",
     "output_type": "error",
     "traceback": [
      "\u001b[0;31m---------------------------------------------------------------------------\u001b[0m",
      "\u001b[0;31mTypeError\u001b[0m                                 Traceback (most recent call last)",
      "Cell \u001b[0;32mIn[168], line 1\u001b[0m\n\u001b[0;32m----> 1\u001b[0m a \u001b[38;5;241m=\u001b[39m \u001b[43ms1\u001b[49m\u001b[38;5;241;43m/\u001b[39;49m\u001b[43mi1\u001b[49m\n",
      "\u001b[0;31mTypeError\u001b[0m: unsupported operand type(s) for /: 'str' and 'int'"
     ]
    }
   ],
   "source": [
    "a = s1/i1"
   ]
  },
  {
   "cell_type": "code",
   "execution_count": 169,
   "id": "94397e34-4a4e-4fc7-b544-d30667bf4dd8",
   "metadata": {},
   "outputs": [
    {
     "ename": "TypeError",
     "evalue": "unsupported operand type(s) for /: 'int' and 'str'",
     "output_type": "error",
     "traceback": [
      "\u001b[0;31m---------------------------------------------------------------------------\u001b[0m",
      "\u001b[0;31mTypeError\u001b[0m                                 Traceback (most recent call last)",
      "Cell \u001b[0;32mIn[169], line 1\u001b[0m\n\u001b[0;32m----> 1\u001b[0m a \u001b[38;5;241m=\u001b[39m \u001b[43mi1\u001b[49m\u001b[38;5;241;43m/\u001b[39;49m\u001b[43ms1\u001b[49m\n",
      "\u001b[0;31mTypeError\u001b[0m: unsupported operand type(s) for /: 'int' and 'str'"
     ]
    }
   ],
   "source": [
    "a = i1/s1"
   ]
  },
  {
   "cell_type": "code",
   "execution_count": 170,
   "id": "ed04d7c9-de87-4564-ab32-e705e666911f",
   "metadata": {},
   "outputs": [],
   "source": [
    "a = 9/3"
   ]
  },
  {
   "cell_type": "code",
   "execution_count": 171,
   "id": "cfdc3808-2314-4f26-b7c9-a317867f38eb",
   "metadata": {},
   "outputs": [
    {
     "data": {
      "text/plain": [
       "3.0"
      ]
     },
     "execution_count": 171,
     "metadata": {},
     "output_type": "execute_result"
    }
   ],
   "source": [
    "a"
   ]
  },
  {
   "cell_type": "markdown",
   "id": "c15d3367-0095-47c9-bc7e-6dd40dd5265b",
   "metadata": {},
   "source": [
    "## Take powers"
   ]
  },
  {
   "cell_type": "code",
   "execution_count": 172,
   "id": "2cdf0cd1-49ca-4ddd-abcb-ae4b64709089",
   "metadata": {},
   "outputs": [],
   "source": [
    "a = i1**i2"
   ]
  },
  {
   "cell_type": "code",
   "execution_count": 173,
   "id": "bf923f83-b4f4-47d1-a1bf-1c8888d84b90",
   "metadata": {},
   "outputs": [
    {
     "data": {
      "text/plain": [
       "0.008"
      ]
     },
     "execution_count": 173,
     "metadata": {},
     "output_type": "execute_result"
    }
   ],
   "source": [
    "a"
   ]
  },
  {
   "cell_type": "code",
   "execution_count": 174,
   "id": "cc0c0da1-c658-46c0-96f9-f98cd8a61a13",
   "metadata": {},
   "outputs": [
    {
     "data": {
      "text/plain": [
       "float"
      ]
     },
     "execution_count": 174,
     "metadata": {},
     "output_type": "execute_result"
    }
   ],
   "source": [
    "type(a)"
   ]
  },
  {
   "cell_type": "code",
   "execution_count": 175,
   "id": "0b0fa383-38fd-4dd6-b4ac-c8dd74f6a43b",
   "metadata": {},
   "outputs": [
    {
     "data": {
      "text/plain": [
       "5"
      ]
     },
     "execution_count": 175,
     "metadata": {},
     "output_type": "execute_result"
    }
   ],
   "source": [
    "i1"
   ]
  },
  {
   "cell_type": "code",
   "execution_count": 176,
   "id": "49e8afa8-3336-470a-a03e-0a53877ae1c7",
   "metadata": {},
   "outputs": [
    {
     "data": {
      "text/plain": [
       "-3"
      ]
     },
     "execution_count": 176,
     "metadata": {},
     "output_type": "execute_result"
    }
   ],
   "source": [
    "i2"
   ]
  },
  {
   "cell_type": "code",
   "execution_count": 177,
   "id": "9f074178-9218-4b94-8b6a-4fc62cd33e42",
   "metadata": {},
   "outputs": [],
   "source": [
    "a = i1**f1"
   ]
  },
  {
   "cell_type": "code",
   "execution_count": 178,
   "id": "410357be-4f9a-4ee7-909a-f1f94660a1c2",
   "metadata": {},
   "outputs": [
    {
     "data": {
      "text/plain": [
       "237.95674233948478"
      ]
     },
     "execution_count": 178,
     "metadata": {},
     "output_type": "execute_result"
    }
   ],
   "source": [
    "a"
   ]
  },
  {
   "cell_type": "code",
   "execution_count": 179,
   "id": "5e3680e0-1c70-453a-b370-2d6d46eefad1",
   "metadata": {},
   "outputs": [],
   "source": [
    "a = i1**b1"
   ]
  },
  {
   "cell_type": "code",
   "execution_count": 180,
   "id": "3fa3dde0-80c7-4928-908d-a561f7afc20d",
   "metadata": {},
   "outputs": [
    {
     "data": {
      "text/plain": [
       "5"
      ]
     },
     "execution_count": 180,
     "metadata": {},
     "output_type": "execute_result"
    }
   ],
   "source": [
    "a"
   ]
  },
  {
   "cell_type": "code",
   "execution_count": 181,
   "id": "6f79e32b-ec3c-4604-9ad5-c92fbc0510d8",
   "metadata": {},
   "outputs": [],
   "source": [
    "a = i1**b2"
   ]
  },
  {
   "cell_type": "code",
   "execution_count": 182,
   "id": "bf48a80c-0dfe-48de-98f1-fbe06d3ec644",
   "metadata": {},
   "outputs": [
    {
     "data": {
      "text/plain": [
       "1"
      ]
     },
     "execution_count": 182,
     "metadata": {},
     "output_type": "execute_result"
    }
   ],
   "source": [
    "a"
   ]
  },
  {
   "cell_type": "code",
   "execution_count": 183,
   "id": "e23b62a7-cfa2-4ce8-9148-bc6d3e06fd12",
   "metadata": {},
   "outputs": [],
   "source": [
    "a = 0**0"
   ]
  },
  {
   "cell_type": "code",
   "execution_count": 184,
   "id": "36f2c14c-a624-470d-a468-c1fe00fc0fd4",
   "metadata": {},
   "outputs": [
    {
     "data": {
      "text/plain": [
       "1"
      ]
     },
     "execution_count": 184,
     "metadata": {},
     "output_type": "execute_result"
    }
   ],
   "source": [
    "a"
   ]
  },
  {
   "cell_type": "code",
   "execution_count": 185,
   "id": "73d06aab-b95c-4fb1-860a-250f0de7cf44",
   "metadata": {},
   "outputs": [
    {
     "ename": "TypeError",
     "evalue": "unsupported operand type(s) for ** or pow(): 'str' and 'int'",
     "output_type": "error",
     "traceback": [
      "\u001b[0;31m---------------------------------------------------------------------------\u001b[0m",
      "\u001b[0;31mTypeError\u001b[0m                                 Traceback (most recent call last)",
      "Cell \u001b[0;32mIn[185], line 1\u001b[0m\n\u001b[0;32m----> 1\u001b[0m a \u001b[38;5;241m=\u001b[39m \u001b[43ms1\u001b[49m\u001b[38;5;241;43m*\u001b[39;49m\u001b[38;5;241;43m*\u001b[39;49m\u001b[43mi1\u001b[49m\n",
      "\u001b[0;31mTypeError\u001b[0m: unsupported operand type(s) for ** or pow(): 'str' and 'int'"
     ]
    }
   ],
   "source": [
    "a = s1**i1"
   ]
  },
  {
   "cell_type": "code",
   "execution_count": 186,
   "id": "aab3c55c-9caf-4a84-9135-d8dc6db153c2",
   "metadata": {},
   "outputs": [
    {
     "ename": "TypeError",
     "evalue": "unsupported operand type(s) for ** or pow(): 'str' and 'int'",
     "output_type": "error",
     "traceback": [
      "\u001b[0;31m---------------------------------------------------------------------------\u001b[0m",
      "\u001b[0;31mTypeError\u001b[0m                                 Traceback (most recent call last)",
      "Cell \u001b[0;32mIn[186], line 1\u001b[0m\n\u001b[0;32m----> 1\u001b[0m a \u001b[38;5;241m=\u001b[39m \u001b[43ms1\u001b[49m\u001b[38;5;241;43m*\u001b[39;49m\u001b[38;5;241;43m*\u001b[39;49m\u001b[38;5;241;43m0\u001b[39;49m\n",
      "\u001b[0;31mTypeError\u001b[0m: unsupported operand type(s) for ** or pow(): 'str' and 'int'"
     ]
    }
   ],
   "source": [
    "a = s1**0"
   ]
  },
  {
   "cell_type": "code",
   "execution_count": 189,
   "id": "54f879e9-2e06-4536-82f3-bbf3ece08da2",
   "metadata": {},
   "outputs": [],
   "source": [
    "a = b1**5"
   ]
  },
  {
   "cell_type": "code",
   "execution_count": 190,
   "id": "d609239d-05cd-49b4-a474-2dc8cf48c7fb",
   "metadata": {},
   "outputs": [
    {
     "data": {
      "text/plain": [
       "1"
      ]
     },
     "execution_count": 190,
     "metadata": {},
     "output_type": "execute_result"
    }
   ],
   "source": [
    "a"
   ]
  },
  {
   "cell_type": "code",
   "execution_count": 191,
   "id": "3d5bf3a7-dda5-4e50-9f80-3c5595e4ff13",
   "metadata": {},
   "outputs": [],
   "source": [
    "a = b1**b2"
   ]
  },
  {
   "cell_type": "code",
   "execution_count": 192,
   "id": "3b054717-42fc-4f3f-808a-0ec0716b8aa6",
   "metadata": {},
   "outputs": [
    {
     "data": {
      "text/plain": [
       "1"
      ]
     },
     "execution_count": 192,
     "metadata": {},
     "output_type": "execute_result"
    }
   ],
   "source": [
    "a"
   ]
  },
  {
   "cell_type": "code",
   "execution_count": 193,
   "id": "36f01ff6-7f8a-4f26-8abe-596a78e4cc44",
   "metadata": {},
   "outputs": [],
   "source": [
    "a = b2**b1"
   ]
  },
  {
   "cell_type": "code",
   "execution_count": 194,
   "id": "32335bb8-c840-4aa7-998c-b68ab5564dbe",
   "metadata": {},
   "outputs": [
    {
     "data": {
      "text/plain": [
       "0"
      ]
     },
     "execution_count": 194,
     "metadata": {},
     "output_type": "execute_result"
    }
   ],
   "source": [
    "a"
   ]
  },
  {
   "cell_type": "markdown",
   "id": "420caff3-9f98-4a90-8801-8e88ad788771",
   "metadata": {},
   "source": [
    "## Modulus"
   ]
  },
  {
   "cell_type": "code",
   "execution_count": 195,
   "id": "7a7345dd-f4e2-4fc5-a4af-620b134076dc",
   "metadata": {},
   "outputs": [],
   "source": [
    "a = 5 % 3"
   ]
  },
  {
   "cell_type": "code",
   "execution_count": 196,
   "id": "f8985c8a-e872-4536-8883-16d8a055e49c",
   "metadata": {},
   "outputs": [
    {
     "data": {
      "text/plain": [
       "2"
      ]
     },
     "execution_count": 196,
     "metadata": {},
     "output_type": "execute_result"
    }
   ],
   "source": [
    "a"
   ]
  },
  {
   "cell_type": "code",
   "execution_count": 197,
   "id": "2d2e15b7-6431-46c8-bf03-2ef627d6f938",
   "metadata": {},
   "outputs": [],
   "source": [
    "a = 3.5%1.7"
   ]
  },
  {
   "cell_type": "code",
   "execution_count": 198,
   "id": "f670b5d5-87af-4818-8553-d2a6825fdcc2",
   "metadata": {},
   "outputs": [
    {
     "data": {
      "text/plain": [
       "0.10000000000000009"
      ]
     },
     "execution_count": 198,
     "metadata": {},
     "output_type": "execute_result"
    }
   ],
   "source": [
    "a"
   ]
  },
  {
   "cell_type": "code",
   "execution_count": 199,
   "id": "9a125190-9653-4351-9006-da528cd308cf",
   "metadata": {},
   "outputs": [],
   "source": [
    "a = -6%5"
   ]
  },
  {
   "cell_type": "code",
   "execution_count": 200,
   "id": "16582037-1ad3-42f7-a487-d75b6f189b80",
   "metadata": {},
   "outputs": [
    {
     "data": {
      "text/plain": [
       "4"
      ]
     },
     "execution_count": 200,
     "metadata": {},
     "output_type": "execute_result"
    }
   ],
   "source": [
    "a"
   ]
  },
  {
   "cell_type": "markdown",
   "id": "d7ca3eb4-0bdf-41f6-9239-67bbfb293886",
   "metadata": {},
   "source": [
    "## Integer division"
   ]
  },
  {
   "cell_type": "code",
   "execution_count": 201,
   "id": "5ad68f35-a456-40aa-9051-d2cb0e060e66",
   "metadata": {},
   "outputs": [],
   "source": [
    "a = 5 // 2"
   ]
  },
  {
   "cell_type": "code",
   "execution_count": 202,
   "id": "97f5b49b-01ef-4c40-bf40-460198063e6e",
   "metadata": {},
   "outputs": [
    {
     "data": {
      "text/plain": [
       "2"
      ]
     },
     "execution_count": 202,
     "metadata": {},
     "output_type": "execute_result"
    }
   ],
   "source": [
    "a"
   ]
  },
  {
   "cell_type": "code",
   "execution_count": 203,
   "id": "87fdf7d3-4fef-44e1-bca8-bc06312a62ca",
   "metadata": {},
   "outputs": [],
   "source": [
    "a = 3.5//1.1"
   ]
  },
  {
   "cell_type": "code",
   "execution_count": 204,
   "id": "dccb5b5e-041a-48b9-9cc6-06a26731f64f",
   "metadata": {},
   "outputs": [
    {
     "data": {
      "text/plain": [
       "3.0"
      ]
     },
     "execution_count": 204,
     "metadata": {},
     "output_type": "execute_result"
    }
   ],
   "source": [
    "a"
   ]
  },
  {
   "cell_type": "code",
   "execution_count": 205,
   "id": "a7d9c0c4-63e3-414c-90af-3eec203c49a5",
   "metadata": {},
   "outputs": [
    {
     "data": {
      "text/plain": [
       "3.1818181818181817"
      ]
     },
     "execution_count": 205,
     "metadata": {},
     "output_type": "execute_result"
    }
   ],
   "source": [
    "3.5/1.1"
   ]
  },
  {
   "cell_type": "code",
   "execution_count": 206,
   "id": "eca55ed8-6945-43ec-b630-a1d956ff4745",
   "metadata": {},
   "outputs": [
    {
     "data": {
      "text/plain": [
       "5"
      ]
     },
     "execution_count": 206,
     "metadata": {},
     "output_type": "execute_result"
    }
   ],
   "source": [
    "int(5.6)"
   ]
  },
  {
   "cell_type": "code",
   "execution_count": 207,
   "id": "b17b6b32-411b-4fc5-b959-00e412285ca1",
   "metadata": {},
   "outputs": [],
   "source": [
    "a = -5//2"
   ]
  },
  {
   "cell_type": "code",
   "execution_count": 208,
   "id": "7e95ce69-3849-486e-beaa-012a65757a40",
   "metadata": {},
   "outputs": [
    {
     "data": {
      "text/plain": [
       "-3"
      ]
     },
     "execution_count": 208,
     "metadata": {},
     "output_type": "execute_result"
    }
   ],
   "source": [
    "a"
   ]
  },
  {
   "cell_type": "code",
   "execution_count": 209,
   "id": "fc67ef04-ee65-4ef1-a41e-6edf322f4733",
   "metadata": {},
   "outputs": [
    {
     "data": {
      "text/plain": [
       "-2"
      ]
     },
     "execution_count": 209,
     "metadata": {},
     "output_type": "execute_result"
    }
   ],
   "source": [
    "int(-2.5)"
   ]
  },
  {
   "cell_type": "code",
   "execution_count": 210,
   "id": "9ea2fa49-35ca-4dd5-a913-51db587e36ca",
   "metadata": {},
   "outputs": [],
   "source": [
    "a = (-72.4//4.5)*4.5+(-72.4%4.5)"
   ]
  },
  {
   "cell_type": "code",
   "execution_count": 211,
   "id": "668b48dc-06b6-48a1-9f6f-ce4c20662f01",
   "metadata": {},
   "outputs": [
    {
     "data": {
      "text/plain": [
       "-72.4"
      ]
     },
     "execution_count": 211,
     "metadata": {},
     "output_type": "execute_result"
    }
   ],
   "source": [
    "a"
   ]
  },
  {
   "cell_type": "code",
   "execution_count": 213,
   "id": "0c8d4337-dc8d-4dde-9764-3317553fb871",
   "metadata": {},
   "outputs": [
    {
     "data": {
      "text/plain": [
       "-12"
      ]
     },
     "execution_count": 213,
     "metadata": {},
     "output_type": "execute_result"
    }
   ],
   "source": [
    "(-10//6)*6"
   ]
  },
  {
   "cell_type": "code",
   "execution_count": 214,
   "id": "c77ccce0-4e1b-4092-96d1-c59dff3017e6",
   "metadata": {},
   "outputs": [
    {
     "data": {
      "text/plain": [
       "2"
      ]
     },
     "execution_count": 214,
     "metadata": {},
     "output_type": "execute_result"
    }
   ],
   "source": [
    "-10%6"
   ]
  },
  {
   "cell_type": "markdown",
   "id": "dfe7441f-4b9f-4be7-8ba9-9d4d8041c336",
   "metadata": {},
   "source": [
    "## Logical"
   ]
  },
  {
   "cell_type": "code",
   "execution_count": 215,
   "id": "7a884e80-3fe4-4aa3-8398-be51e1317119",
   "metadata": {},
   "outputs": [],
   "source": [
    "a = True and True"
   ]
  },
  {
   "cell_type": "code",
   "execution_count": 216,
   "id": "cc3b617e-4643-4dfc-a9fb-2b2a065db477",
   "metadata": {},
   "outputs": [
    {
     "data": {
      "text/plain": [
       "True"
      ]
     },
     "execution_count": 216,
     "metadata": {},
     "output_type": "execute_result"
    }
   ],
   "source": [
    "a"
   ]
  },
  {
   "cell_type": "code",
   "execution_count": 217,
   "id": "aac3ead3-b2fc-4a00-b8af-5dee2eba23f7",
   "metadata": {},
   "outputs": [],
   "source": [
    "# () and () is True if and only if both things are True"
   ]
  },
  {
   "cell_type": "code",
   "execution_count": 220,
   "id": "cd7e8d5e-021b-49a9-b481-dc489b290545",
   "metadata": {},
   "outputs": [],
   "source": [
    "a = bool(5) and bool(\"penguin\")"
   ]
  },
  {
   "cell_type": "code",
   "execution_count": 221,
   "id": "06fd9595-2240-42bd-8530-46840cc5f9c0",
   "metadata": {},
   "outputs": [
    {
     "data": {
      "text/plain": [
       "True"
      ]
     },
     "execution_count": 221,
     "metadata": {},
     "output_type": "execute_result"
    }
   ],
   "source": [
    "a"
   ]
  },
  {
   "cell_type": "code",
   "execution_count": 222,
   "id": "01cb1a24-5921-4128-95c0-dd888eb916ce",
   "metadata": {},
   "outputs": [],
   "source": [
    "a = True and False"
   ]
  },
  {
   "cell_type": "code",
   "execution_count": 223,
   "id": "7ea54509-499b-4acd-af54-dc8c815560bd",
   "metadata": {},
   "outputs": [
    {
     "data": {
      "text/plain": [
       "False"
      ]
     },
     "execution_count": 223,
     "metadata": {},
     "output_type": "execute_result"
    }
   ],
   "source": [
    "a"
   ]
  },
  {
   "cell_type": "code",
   "execution_count": 224,
   "id": "146ed93f-837d-4596-93ad-fa0e785fe55f",
   "metadata": {},
   "outputs": [],
   "source": [
    "a = False and True"
   ]
  },
  {
   "cell_type": "code",
   "execution_count": 225,
   "id": "54c4f328-183a-4cee-86c0-940b47f5bb70",
   "metadata": {},
   "outputs": [
    {
     "data": {
      "text/plain": [
       "False"
      ]
     },
     "execution_count": 225,
     "metadata": {},
     "output_type": "execute_result"
    }
   ],
   "source": [
    "a"
   ]
  },
  {
   "cell_type": "code",
   "execution_count": 226,
   "id": "be8bb7ce-1573-4ef4-adea-feef5ca890da",
   "metadata": {},
   "outputs": [],
   "source": [
    "a  = False and False"
   ]
  },
  {
   "cell_type": "code",
   "execution_count": 227,
   "id": "e2aac700-bf73-41b6-8fc5-3b686decc003",
   "metadata": {},
   "outputs": [
    {
     "data": {
      "text/plain": [
       "False"
      ]
     },
     "execution_count": 227,
     "metadata": {},
     "output_type": "execute_result"
    }
   ],
   "source": [
    "a"
   ]
  },
  {
   "cell_type": "code",
   "execution_count": 228,
   "id": "e3615c6b-04c2-43dc-a8ef-2340a54a78de",
   "metadata": {},
   "outputs": [],
   "source": [
    "a = True and True and True"
   ]
  },
  {
   "cell_type": "code",
   "execution_count": 229,
   "id": "9292090d-4c2c-4f9c-84f1-62c75975f6f5",
   "metadata": {},
   "outputs": [
    {
     "data": {
      "text/plain": [
       "True"
      ]
     },
     "execution_count": 229,
     "metadata": {},
     "output_type": "execute_result"
    }
   ],
   "source": [
    "a"
   ]
  },
  {
   "cell_type": "code",
   "execution_count": 230,
   "id": "146d7fa4-fc6c-48af-bcd7-e5a07e9ff980",
   "metadata": {},
   "outputs": [],
   "source": [
    "a =  True and False and True"
   ]
  },
  {
   "cell_type": "code",
   "execution_count": 231,
   "id": "e2132151-2ad4-4944-8fbd-b0e54f1ee647",
   "metadata": {},
   "outputs": [
    {
     "data": {
      "text/plain": [
       "False"
      ]
     },
     "execution_count": 231,
     "metadata": {},
     "output_type": "execute_result"
    }
   ],
   "source": [
    "a"
   ]
  },
  {
   "cell_type": "code",
   "execution_count": 232,
   "id": "562c6608-4b05-4bae-814a-02dec5aaa7e8",
   "metadata": {},
   "outputs": [],
   "source": [
    "a = True or True"
   ]
  },
  {
   "cell_type": "code",
   "execution_count": 233,
   "id": "a8d3e433-5738-48dc-be14-f1eca1d30f08",
   "metadata": {},
   "outputs": [
    {
     "data": {
      "text/plain": [
       "True"
      ]
     },
     "execution_count": 233,
     "metadata": {},
     "output_type": "execute_result"
    }
   ],
   "source": [
    "a"
   ]
  },
  {
   "cell_type": "code",
   "execution_count": 234,
   "id": "693fed7e-1850-4517-a2bb-1bad7e957faa",
   "metadata": {},
   "outputs": [],
   "source": [
    "# or: if at least one is true, it will be true"
   ]
  },
  {
   "cell_type": "code",
   "execution_count": 235,
   "id": "dcc6c8e0-aa58-40fd-9588-47c2d4b0aa02",
   "metadata": {},
   "outputs": [],
   "source": [
    "a = True or False"
   ]
  },
  {
   "cell_type": "code",
   "execution_count": 236,
   "id": "97a2c8f3-8dc4-4ace-b6e2-e02e15e69261",
   "metadata": {},
   "outputs": [
    {
     "data": {
      "text/plain": [
       "True"
      ]
     },
     "execution_count": 236,
     "metadata": {},
     "output_type": "execute_result"
    }
   ],
   "source": [
    "a"
   ]
  },
  {
   "cell_type": "code",
   "execution_count": 237,
   "id": "2b831102-4d4d-4d3c-bb50-3e6b92230325",
   "metadata": {},
   "outputs": [],
   "source": [
    "a = False or False"
   ]
  },
  {
   "cell_type": "code",
   "execution_count": 238,
   "id": "a00b5279-685a-46d8-8f84-9a4bced7bd1e",
   "metadata": {},
   "outputs": [
    {
     "data": {
      "text/plain": [
       "False"
      ]
     },
     "execution_count": 238,
     "metadata": {},
     "output_type": "execute_result"
    }
   ],
   "source": [
    "a"
   ]
  },
  {
   "cell_type": "code",
   "execution_count": 239,
   "id": "1b98f9a7-cbb3-4203-ae56-726f9a717285",
   "metadata": {},
   "outputs": [],
   "source": [
    "a = False or True or False or False"
   ]
  },
  {
   "cell_type": "code",
   "execution_count": 240,
   "id": "5cf7958a-670a-40d1-9ff9-5741d6d42332",
   "metadata": {},
   "outputs": [
    {
     "data": {
      "text/plain": [
       "True"
      ]
     },
     "execution_count": 240,
     "metadata": {},
     "output_type": "execute_result"
    }
   ],
   "source": [
    "a"
   ]
  },
  {
   "cell_type": "code",
   "execution_count": 241,
   "id": "ac98f9fa-c529-4c2b-9c1c-e2f274aca789",
   "metadata": {},
   "outputs": [],
   "source": [
    "# not: False -> True, True -> False"
   ]
  },
  {
   "cell_type": "code",
   "execution_count": 242,
   "id": "81de9ea4-1eeb-4a87-8cf6-2b25c5c27e45",
   "metadata": {},
   "outputs": [],
   "source": [
    "a = not True"
   ]
  },
  {
   "cell_type": "code",
   "execution_count": 243,
   "id": "edc67f92-870b-41d9-9777-6c59a04dc866",
   "metadata": {},
   "outputs": [
    {
     "data": {
      "text/plain": [
       "False"
      ]
     },
     "execution_count": 243,
     "metadata": {},
     "output_type": "execute_result"
    }
   ],
   "source": [
    "a"
   ]
  },
  {
   "cell_type": "code",
   "execution_count": 244,
   "id": "82f896f7-8886-489b-a06d-6078eed6ace7",
   "metadata": {},
   "outputs": [],
   "source": [
    "a = not False"
   ]
  },
  {
   "cell_type": "code",
   "execution_count": 245,
   "id": "3ac89e37-3890-45d5-baae-78ab1cea3dfa",
   "metadata": {},
   "outputs": [
    {
     "data": {
      "text/plain": [
       "True"
      ]
     },
     "execution_count": 245,
     "metadata": {},
     "output_type": "execute_result"
    }
   ],
   "source": [
    "a"
   ]
  },
  {
   "cell_type": "code",
   "execution_count": 246,
   "id": "44d5692c-40c0-4eaf-89c8-922c606016cd",
   "metadata": {},
   "outputs": [],
   "source": [
    "a = (not False and True) or False"
   ]
  },
  {
   "cell_type": "code",
   "execution_count": 247,
   "id": "30fabe0c-d5cb-4bd7-a066-765434045abc",
   "metadata": {},
   "outputs": [
    {
     "data": {
      "text/plain": [
       "True"
      ]
     },
     "execution_count": 247,
     "metadata": {},
     "output_type": "execute_result"
    }
   ],
   "source": [
    "a"
   ]
  },
  {
   "cell_type": "code",
   "execution_count": 248,
   "id": "7ca02f8e-92c5-4f4e-8e54-7fb61b4432a0",
   "metadata": {},
   "outputs": [],
   "source": [
    "a = True ^ False"
   ]
  },
  {
   "cell_type": "code",
   "execution_count": 249,
   "id": "e357f685-ec6c-4b8f-a183-1a8b3a9014eb",
   "metadata": {},
   "outputs": [
    {
     "data": {
      "text/plain": [
       "True"
      ]
     },
     "execution_count": 249,
     "metadata": {},
     "output_type": "execute_result"
    }
   ],
   "source": [
    "a"
   ]
  },
  {
   "cell_type": "code",
   "execution_count": 250,
   "id": "1b3743e3-023f-4808-a41c-ab5d3e3c4ad8",
   "metadata": {},
   "outputs": [],
   "source": [
    "a = True ^ True"
   ]
  },
  {
   "cell_type": "code",
   "execution_count": 251,
   "id": "54b22f7b-c2cf-4687-8a2b-07add9981aa0",
   "metadata": {},
   "outputs": [
    {
     "data": {
      "text/plain": [
       "False"
      ]
     },
     "execution_count": 251,
     "metadata": {},
     "output_type": "execute_result"
    }
   ],
   "source": [
    "a"
   ]
  },
  {
   "cell_type": "code",
   "execution_count": 252,
   "id": "3d74779e-b66a-4bc5-82c7-f7786237eaed",
   "metadata": {},
   "outputs": [],
   "source": [
    "a = False ^ False"
   ]
  },
  {
   "cell_type": "code",
   "execution_count": 253,
   "id": "aa515a4b-db93-4e7b-b3ab-1a4c35843e66",
   "metadata": {},
   "outputs": [
    {
     "data": {
      "text/plain": [
       "False"
      ]
     },
     "execution_count": 253,
     "metadata": {},
     "output_type": "execute_result"
    }
   ],
   "source": [
    "a"
   ]
  },
  {
   "cell_type": "code",
   "execution_count": 254,
   "id": "ec6057bd-270f-4168-b10a-09a77934a07d",
   "metadata": {},
   "outputs": [],
   "source": [
    "# Define a variable that stores the text 'penguin'. Define another variable,\n",
    "# that stores the value 5. In a third variable, I'll multiply the previous 2.\n",
    "# Then I'll print this to the screen."
   ]
  },
  {
   "cell_type": "code",
   "execution_count": 255,
   "id": "88e72b4a-bd8f-4769-a0e5-f5a6fc1f5bac",
   "metadata": {},
   "outputs": [
    {
     "name": "stdout",
     "output_type": "stream",
     "text": [
      "penguinpenguinpenguinpenguinpenguin\n"
     ]
    }
   ],
   "source": [
    "animal = \"penguin\"\n",
    "number = 5\n",
    "number_animal = number*animal\n",
    "print(number_animal)"
   ]
  },
  {
   "cell_type": "markdown",
   "id": "d12d8a50-ae32-4a95-b1bc-3e1b508af5fa",
   "metadata": {},
   "source": [
    "## Relational operators"
   ]
  },
  {
   "cell_type": "code",
   "execution_count": 256,
   "id": "868bf6bd-0593-4590-b637-9b1e6fea7a8a",
   "metadata": {},
   "outputs": [
    {
     "data": {
      "text/plain": [
       "5"
      ]
     },
     "execution_count": 256,
     "metadata": {},
     "output_type": "execute_result"
    }
   ],
   "source": [
    "i1"
   ]
  },
  {
   "cell_type": "code",
   "execution_count": 257,
   "id": "14d82c73-5ce9-4790-a568-2cc1f8aa691c",
   "metadata": {},
   "outputs": [
    {
     "data": {
      "text/plain": [
       "-3"
      ]
     },
     "execution_count": 257,
     "metadata": {},
     "output_type": "execute_result"
    }
   ],
   "source": [
    "i2"
   ]
  },
  {
   "cell_type": "code",
   "execution_count": 258,
   "id": "ddee9c49-dc90-4267-adb2-b149428b9fea",
   "metadata": {},
   "outputs": [],
   "source": [
    "a = i1>i2"
   ]
  },
  {
   "cell_type": "code",
   "execution_count": 259,
   "id": "fd0f745d-a93b-447d-aef8-879fef6dd063",
   "metadata": {},
   "outputs": [
    {
     "data": {
      "text/plain": [
       "True"
      ]
     },
     "execution_count": 259,
     "metadata": {},
     "output_type": "execute_result"
    }
   ],
   "source": [
    "a"
   ]
  },
  {
   "cell_type": "code",
   "execution_count": 260,
   "id": "185b7d5a-b587-4319-a67f-60e0b874de5b",
   "metadata": {},
   "outputs": [],
   "source": [
    "a = i1<=i2"
   ]
  },
  {
   "cell_type": "code",
   "execution_count": 261,
   "id": "7c4ebfdd-b26e-4ead-91dd-a7f1be1c9db0",
   "metadata": {},
   "outputs": [
    {
     "data": {
      "text/plain": [
       "False"
      ]
     },
     "execution_count": 261,
     "metadata": {},
     "output_type": "execute_result"
    }
   ],
   "source": [
    "a"
   ]
  },
  {
   "cell_type": "code",
   "execution_count": 262,
   "id": "610db222-19f9-4508-b083-4b1c5c601adc",
   "metadata": {},
   "outputs": [
    {
     "ename": "TypeError",
     "evalue": "'>' not supported between instances of 'int' and 'str'",
     "output_type": "error",
     "traceback": [
      "\u001b[0;31m---------------------------------------------------------------------------\u001b[0m",
      "\u001b[0;31mTypeError\u001b[0m                                 Traceback (most recent call last)",
      "Cell \u001b[0;32mIn[262], line 1\u001b[0m\n\u001b[0;32m----> 1\u001b[0m a \u001b[38;5;241m=\u001b[39m \u001b[38;5;241;43m5\u001b[39;49m\u001b[38;5;241;43m>\u001b[39;49m\u001b[38;5;124;43m\"\u001b[39;49m\u001b[38;5;124;43mpenguin\u001b[39;49m\u001b[38;5;124;43m\"\u001b[39;49m\n",
      "\u001b[0;31mTypeError\u001b[0m: '>' not supported between instances of 'int' and 'str'"
     ]
    }
   ],
   "source": [
    "a = 5>\"penguin\""
   ]
  },
  {
   "cell_type": "code",
   "execution_count": 263,
   "id": "0bb57601-6c10-4c47-989f-d4f8c10ded2b",
   "metadata": {},
   "outputs": [],
   "source": [
    "a = \"penguin\"<\"sea lion\""
   ]
  },
  {
   "cell_type": "code",
   "execution_count": 264,
   "id": "b66e2b2c-e27d-40b9-84b9-30e6bef1f09b",
   "metadata": {},
   "outputs": [
    {
     "data": {
      "text/plain": [
       "True"
      ]
     },
     "execution_count": 264,
     "metadata": {},
     "output_type": "execute_result"
    }
   ],
   "source": [
    "a"
   ]
  },
  {
   "cell_type": "code",
   "execution_count": 265,
   "id": "6d0fcbe6-a13e-436d-b88d-a2d5d9ac6453",
   "metadata": {},
   "outputs": [],
   "source": [
    "a = f1==f1"
   ]
  },
  {
   "cell_type": "code",
   "execution_count": 266,
   "id": "1f9334db-cc0f-442e-bdfe-3420cf339875",
   "metadata": {},
   "outputs": [
    {
     "data": {
      "text/plain": [
       "True"
      ]
     },
     "execution_count": 266,
     "metadata": {},
     "output_type": "execute_result"
    }
   ],
   "source": [
    "a"
   ]
  },
  {
   "cell_type": "code",
   "execution_count": 267,
   "id": "366f64cb-ce4f-4cdd-8a3f-b06290714117",
   "metadata": {},
   "outputs": [],
   "source": [
    "a = f1==f2"
   ]
  },
  {
   "cell_type": "code",
   "execution_count": 268,
   "id": "1714484a-4ef6-4d25-bf5f-1fbc7af68189",
   "metadata": {},
   "outputs": [
    {
     "data": {
      "text/plain": [
       "False"
      ]
     },
     "execution_count": 268,
     "metadata": {},
     "output_type": "execute_result"
    }
   ],
   "source": [
    "a"
   ]
  },
  {
   "cell_type": "code",
   "execution_count": 269,
   "id": "1549d8a3-d061-4841-a3db-9d93b966dad4",
   "metadata": {},
   "outputs": [],
   "source": [
    "a = not f1==f2"
   ]
  },
  {
   "cell_type": "code",
   "execution_count": 270,
   "id": "027c09c2-53ba-4e67-b8a2-72b4145382ee",
   "metadata": {},
   "outputs": [
    {
     "data": {
      "text/plain": [
       "True"
      ]
     },
     "execution_count": 270,
     "metadata": {},
     "output_type": "execute_result"
    }
   ],
   "source": [
    "a"
   ]
  },
  {
   "cell_type": "code",
   "execution_count": 271,
   "id": "6a78fe5d-deb4-466b-95d5-6f3f07d97c65",
   "metadata": {},
   "outputs": [],
   "source": [
    "a = f1!=f2"
   ]
  },
  {
   "cell_type": "code",
   "execution_count": 272,
   "id": "9d145ab0-25bd-4b6c-a6a2-a8607882a38e",
   "metadata": {},
   "outputs": [
    {
     "data": {
      "text/plain": [
       "True"
      ]
     },
     "execution_count": 272,
     "metadata": {},
     "output_type": "execute_result"
    }
   ],
   "source": [
    "a"
   ]
  },
  {
   "cell_type": "code",
   "execution_count": 273,
   "id": "453aef87-676c-4746-891c-839c04310021",
   "metadata": {},
   "outputs": [],
   "source": [
    "a = 3**2*(True or False)"
   ]
  },
  {
   "cell_type": "code",
   "execution_count": 274,
   "id": "4deea5fd-a247-4532-8a2c-c5952d639734",
   "metadata": {},
   "outputs": [
    {
     "data": {
      "text/plain": [
       "9"
      ]
     },
     "execution_count": 274,
     "metadata": {},
     "output_type": "execute_result"
    }
   ],
   "source": [
    "a"
   ]
  },
  {
   "cell_type": "code",
   "execution_count": 275,
   "id": "887540ef-bea1-4a04-96ad-9edf3b0669ff",
   "metadata": {},
   "outputs": [],
   "source": [
    "a = 3**2*((True or False)*2)"
   ]
  },
  {
   "cell_type": "code",
   "execution_count": 276,
   "id": "1cebfa65-8b5a-4895-a637-065044dfc460",
   "metadata": {},
   "outputs": [
    {
     "data": {
      "text/plain": [
       "18"
      ]
     },
     "execution_count": 276,
     "metadata": {},
     "output_type": "execute_result"
    }
   ],
   "source": [
    "a"
   ]
  },
  {
   "cell_type": "code",
   "execution_count": 277,
   "id": "46ac1bd1-dc66-4e7e-9c46-64c343283029",
   "metadata": {},
   "outputs": [],
   "source": [
    "a = 3**(2*((True or False)*2))"
   ]
  },
  {
   "cell_type": "code",
   "execution_count": 278,
   "id": "cc36c392-1d51-4604-901b-221be9efe389",
   "metadata": {},
   "outputs": [
    {
     "data": {
      "text/plain": [
       "81"
      ]
     },
     "execution_count": 278,
     "metadata": {},
     "output_type": "execute_result"
    }
   ],
   "source": [
    "a"
   ]
  },
  {
   "cell_type": "code",
   "execution_count": null,
   "id": "4acfdeb6-a827-4629-a598-16f797763764",
   "metadata": {},
   "outputs": [],
   "source": []
  }
 ],
 "metadata": {
  "kernelspec": {
   "display_name": "Python 3 (ipykernel)",
   "language": "python",
   "name": "python3"
  },
  "language_info": {
   "codemirror_mode": {
    "name": "ipython",
    "version": 3
   },
   "file_extension": ".py",
   "mimetype": "text/x-python",
   "name": "python",
   "nbconvert_exporter": "python",
   "pygments_lexer": "ipython3",
   "version": "3.11.5"
  }
 },
 "nbformat": 4,
 "nbformat_minor": 5
}
